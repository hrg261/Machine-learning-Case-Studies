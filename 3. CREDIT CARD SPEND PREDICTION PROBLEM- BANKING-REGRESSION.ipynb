{
 "cells": [
  {
   "cell_type": "code",
   "execution_count": 1,
   "metadata": {},
   "outputs": [
    {
     "name": "stderr",
     "output_type": "stream",
     "text": [
      "C:\\Users\\raghu\\Anaconda3\\lib\\site-packages\\sklearn\\cross_validation.py:41: DeprecationWarning: This module was deprecated in version 0.18 in favor of the model_selection module into which all the refactored classes and functions are moved. Also note that the interface of the new CV iterators are different from that of this module. This module will be removed in 0.20.\n",
      "  \"This module will be removed in 0.20.\", DeprecationWarning)\n"
     ]
    }
   ],
   "source": [
    "# Import necessary Libraries \n",
    "import pandas as pd\n",
    "import numpy as np\n",
    "from sklearn.cross_validation import train_test_split\n",
    "import statsmodels.api as sm\n",
    "import seaborn as sns\n",
    "from statsmodels.stats.outliers_influence import variance_inflation_factor\n",
    "from patsy import dmatrices\n",
    "from scipy import stats\n",
    "import pylab\n",
    "from sklearn.linear_model import LinearRegression\n",
    "from sklearn import metrics\n"
   ]
  },
  {
   "cell_type": "code",
   "execution_count": 2,
   "metadata": {},
   "outputs": [],
   "source": [
    "# An utility function to create dummy variable\n",
    "def create_dummies( df, colname ):\n",
    "    col_dummies = pd.get_dummies(df[colname], prefix=colname)\n",
    "    col_dummies.drop(col_dummies.columns[0], axis=1, inplace=True)\n",
    "    df = pd.concat([df, col_dummies], axis=1)\n",
    "    df.drop( colname, axis = 1, inplace = True )\n",
    "    return df"
   ]
  },
  {
   "cell_type": "code",
   "execution_count": 3,
   "metadata": {},
   "outputs": [
    {
     "name": "stderr",
     "output_type": "stream",
     "text": [
      "C:\\Users\\raghu\\Anaconda3\\lib\\site-packages\\IPython\\core\\interactiveshell.py:2785: DtypeWarning: Columns (2,19,21,49,87,88,102) have mixed types. Specify dtype option on import or set low_memory=False.\n",
      "  interactivity=interactivity, compiler=compiler, result=result)\n"
     ]
    }
   ],
   "source": [
    "# Import Data \n",
    "data=pd.read_csv(\"3. CREDIT CARD SPEND PREDICTION PROBLEM- BANKING-REGRESSION//CREDIT CARD USERS DATA.csv\")"
   ]
  },
  {
   "cell_type": "code",
   "execution_count": 4,
   "metadata": {},
   "outputs": [
    {
     "data": {
      "text/html": [
       "<div>\n",
       "<style scoped>\n",
       "    .dataframe tbody tr th:only-of-type {\n",
       "        vertical-align: middle;\n",
       "    }\n",
       "\n",
       "    .dataframe tbody tr th {\n",
       "        vertical-align: top;\n",
       "    }\n",
       "\n",
       "    .dataframe thead th {\n",
       "        text-align: right;\n",
       "    }\n",
       "</style>\n",
       "<table border=\"1\" class=\"dataframe\">\n",
       "  <thead>\n",
       "    <tr style=\"text-align: right;\">\n",
       "      <th></th>\n",
       "      <th>custid</th>\n",
       "      <th>region</th>\n",
       "      <th>townsize</th>\n",
       "      <th>gender</th>\n",
       "      <th>age</th>\n",
       "      <th>agecat</th>\n",
       "      <th>birthmonth</th>\n",
       "      <th>ed</th>\n",
       "      <th>edcat</th>\n",
       "      <th>jobcat</th>\n",
       "      <th>...</th>\n",
       "      <th>owncd</th>\n",
       "      <th>ownpda</th>\n",
       "      <th>ownpc</th>\n",
       "      <th>ownipod</th>\n",
       "      <th>owngame</th>\n",
       "      <th>ownfax</th>\n",
       "      <th>news</th>\n",
       "      <th>response_01</th>\n",
       "      <th>response_02</th>\n",
       "      <th>response_03</th>\n",
       "    </tr>\n",
       "  </thead>\n",
       "  <tbody>\n",
       "    <tr>\n",
       "      <th>0</th>\n",
       "      <td>3964-QJWTRG-NPN</td>\n",
       "      <td>1.0</td>\n",
       "      <td>2.00</td>\n",
       "      <td>1.0</td>\n",
       "      <td>20.0</td>\n",
       "      <td>2.0</td>\n",
       "      <td>September</td>\n",
       "      <td>15.0</td>\n",
       "      <td>3.0</td>\n",
       "      <td>1.0</td>\n",
       "      <td>...</td>\n",
       "      <td>0.0</td>\n",
       "      <td>0.0</td>\n",
       "      <td>0.0</td>\n",
       "      <td>1.0</td>\n",
       "      <td>1.0</td>\n",
       "      <td>0.0</td>\n",
       "      <td>0.0</td>\n",
       "      <td>0.0</td>\n",
       "      <td>1.0</td>\n",
       "      <td>0.0</td>\n",
       "    </tr>\n",
       "    <tr>\n",
       "      <th>1</th>\n",
       "      <td>0648-AIPJSP-UVM</td>\n",
       "      <td>5.0</td>\n",
       "      <td>5.00</td>\n",
       "      <td>0.0</td>\n",
       "      <td>22.0</td>\n",
       "      <td>2.0</td>\n",
       "      <td>May</td>\n",
       "      <td>17.0</td>\n",
       "      <td>4.0</td>\n",
       "      <td>2.0</td>\n",
       "      <td>...</td>\n",
       "      <td>1.0</td>\n",
       "      <td>1.0</td>\n",
       "      <td>1.0</td>\n",
       "      <td>1.0</td>\n",
       "      <td>1.0</td>\n",
       "      <td>1.0</td>\n",
       "      <td>1.0</td>\n",
       "      <td>0.0</td>\n",
       "      <td>0.0</td>\n",
       "      <td>0.0</td>\n",
       "    </tr>\n",
       "    <tr>\n",
       "      <th>2</th>\n",
       "      <td>5195-TLUDJE-HVO</td>\n",
       "      <td>3.0</td>\n",
       "      <td>4.00</td>\n",
       "      <td>1.0</td>\n",
       "      <td>67.0</td>\n",
       "      <td>6.0</td>\n",
       "      <td>June</td>\n",
       "      <td>14.0</td>\n",
       "      <td>2.0</td>\n",
       "      <td>2.0</td>\n",
       "      <td>...</td>\n",
       "      <td>1.0</td>\n",
       "      <td>0.0</td>\n",
       "      <td>0.0</td>\n",
       "      <td>0.0</td>\n",
       "      <td>0.0</td>\n",
       "      <td>0.0</td>\n",
       "      <td>1.0</td>\n",
       "      <td>0.0</td>\n",
       "      <td>0.0</td>\n",
       "      <td>0.0</td>\n",
       "    </tr>\n",
       "    <tr>\n",
       "      <th>3</th>\n",
       "      <td>4459-VLPQUH-3OL</td>\n",
       "      <td>4.0</td>\n",
       "      <td>3.00</td>\n",
       "      <td>0.0</td>\n",
       "      <td>23.0</td>\n",
       "      <td>2.0</td>\n",
       "      <td>May</td>\n",
       "      <td>16.0</td>\n",
       "      <td>3.0</td>\n",
       "      <td>2.0</td>\n",
       "      <td>...</td>\n",
       "      <td>1.0</td>\n",
       "      <td>0.0</td>\n",
       "      <td>1.0</td>\n",
       "      <td>1.0</td>\n",
       "      <td>1.0</td>\n",
       "      <td>0.0</td>\n",
       "      <td>1.0</td>\n",
       "      <td>1.0</td>\n",
       "      <td>0.0</td>\n",
       "      <td>0.0</td>\n",
       "    </tr>\n",
       "    <tr>\n",
       "      <th>4</th>\n",
       "      <td>8158-SMTQFB-CNO</td>\n",
       "      <td>2.0</td>\n",
       "      <td>2.00</td>\n",
       "      <td>0.0</td>\n",
       "      <td>26.0</td>\n",
       "      <td>3.0</td>\n",
       "      <td>July</td>\n",
       "      <td>16.0</td>\n",
       "      <td>3.0</td>\n",
       "      <td>2.0</td>\n",
       "      <td>...</td>\n",
       "      <td>1.0</td>\n",
       "      <td>0.0</td>\n",
       "      <td>1.0</td>\n",
       "      <td>0.0</td>\n",
       "      <td>1.0</td>\n",
       "      <td>0.0</td>\n",
       "      <td>0.0</td>\n",
       "      <td>0.0</td>\n",
       "      <td>1.0</td>\n",
       "      <td>0.0</td>\n",
       "    </tr>\n",
       "  </tbody>\n",
       "</table>\n",
       "<p>5 rows × 132 columns</p>\n",
       "</div>"
      ],
      "text/plain": [
       "            custid  region townsize  gender   age  agecat birthmonth    ed  \\\n",
       "0  3964-QJWTRG-NPN     1.0     2.00     1.0  20.0     2.0  September  15.0   \n",
       "1  0648-AIPJSP-UVM     5.0     5.00     0.0  22.0     2.0        May  17.0   \n",
       "2  5195-TLUDJE-HVO     3.0     4.00     1.0  67.0     6.0       June  14.0   \n",
       "3  4459-VLPQUH-3OL     4.0     3.00     0.0  23.0     2.0        May  16.0   \n",
       "4  8158-SMTQFB-CNO     2.0     2.00     0.0  26.0     3.0       July  16.0   \n",
       "\n",
       "   edcat  jobcat     ...      owncd  ownpda  ownpc  ownipod  owngame  ownfax  \\\n",
       "0    3.0     1.0     ...        0.0     0.0    0.0      1.0      1.0     0.0   \n",
       "1    4.0     2.0     ...        1.0     1.0    1.0      1.0      1.0     1.0   \n",
       "2    2.0     2.0     ...        1.0     0.0    0.0      0.0      0.0     0.0   \n",
       "3    3.0     2.0     ...        1.0     0.0    1.0      1.0      1.0     0.0   \n",
       "4    3.0     2.0     ...        1.0     0.0    1.0      0.0      1.0     0.0   \n",
       "\n",
       "   news  response_01  response_02 response_03  \n",
       "0   0.0          0.0          1.0         0.0  \n",
       "1   1.0          0.0          0.0         0.0  \n",
       "2   1.0          0.0          0.0         0.0  \n",
       "3   1.0          1.0          0.0         0.0  \n",
       "4   0.0          0.0          1.0         0.0  \n",
       "\n",
       "[5 rows x 132 columns]"
      ]
     },
     "execution_count": 4,
     "metadata": {},
     "output_type": "execute_result"
    }
   ],
   "source": [
    "data.head()"
   ]
  },
  {
   "cell_type": "code",
   "execution_count": 5,
   "metadata": {},
   "outputs": [],
   "source": [
    "# Creating list of all columns present in the data\n",
    "allcolumn=[]\n",
    "for variable in data.columns:\n",
    "    allcolumn.append(variable)"
   ]
  },
  {
   "cell_type": "code",
   "execution_count": 6,
   "metadata": {},
   "outputs": [],
   "source": [
    "# \" start_ln \" columns starting with \"ln\" -> They have some error so high no. of missing values so deleting them \n",
    "start_ln=data.columns.str.startswith('ln')\n",
    "# Creating a numpy array of all columns \n",
    "allcolumn_array=np.asarray(allcolumn)\n",
    "# \" Z \" is the column names in all column of data which starts with word \"ln\"\n",
    "z=allcolumn_array[start_ln]\n",
    "# \" var_to_remove \" -> List that contain column names to delete starting with 'ln'\n",
    "var_to_remove=[]\n",
    "for var in z:\n",
    "    var_to_remove.append(var)\n",
    "\n",
    "# \" var_to_log \"-> Variables for which log transformation is to be taken \n",
    "var_to_log=[]\n",
    "for var in var_to_remove:\n",
    "    var_to_log.append(var[2:])\n",
    "   \n"
   ]
  },
  {
   "cell_type": "code",
   "execution_count": 7,
   "metadata": {},
   "outputs": [],
   "source": [
    "# Variable \" inc \" is \" income \"\n",
    "var_to_log[0]='income'"
   ]
  },
  {
   "cell_type": "code",
   "execution_count": 8,
   "metadata": {},
   "outputs": [],
   "source": [
    "# Dropping Variables starting with \"ln\" is \"var_to_remove\" variables \n",
    "data.drop(var_to_remove,axis=1,inplace=True)"
   ]
  },
  {
   "cell_type": "code",
   "execution_count": 9,
   "metadata": {},
   "outputs": [
    {
     "data": {
      "text/plain": [
       "Index(['custid', 'townsize', 'birthmonth', 'commutetime', 'longten',\n",
       "       'cardten'],\n",
       "      dtype='object')"
      ]
     },
     "execution_count": 9,
     "metadata": {},
     "output_type": "execute_result"
    }
   ],
   "source": [
    "data.select_dtypes('object').columns ## The object column here and in the data dictionary does not match."
   ]
  },
  {
   "cell_type": "code",
   "execution_count": 10,
   "metadata": {},
   "outputs": [],
   "source": [
    "# Selecting categorical variables and adding to list \n",
    "var_cat=[]\n",
    "for variable in data.select_dtypes('object').columns:\n",
    "    var_cat.append(variable)\n",
    "\n",
    "var_cat=var_cat[1:] ## CustID is surely categorical so leaving that "
   ]
  },
  {
   "cell_type": "code",
   "execution_count": 11,
   "metadata": {},
   "outputs": [],
   "source": [
    "# Categorical variable based on Data Dictionary\n",
    "var_cat_real=['region','townsize','gender','agecat','birthmonth','edcat','jobcat','union','employ','empcat','retire','inccat','default','jobsat','marital','spousedcat','homeown','hometype','address','addresscat','cars','carown','cartype','carcatvalue','carbought','carbuy','commute','commutecat','commutecar','commutemotorcycle','commutecarpool','commutebus','commuterail','commutepublic','commutebike','commutewalk','commutenonmotor','telecommute','reason','polview','polparty','polcontrib','vote','card','cardtype','cardbenefit','cardfee','cardtenure','cardtenurecat','card2','card2type','card2benefit','card2fee','card2tenure','card2tenurecat','active','bfast','churn','tollfree','equip','callcard','wireless','multline','voice','pager','internet','callid','callwait','forward','confer','ebill','owntv','ownvcr','owndvd','owncd','ownpda','ownpc','ownipod','owngame','ownfax','news','response_01','response_02','response_03']"
   ]
  },
  {
   "cell_type": "code",
   "execution_count": 12,
   "metadata": {},
   "outputs": [],
   "source": [
    "# Adding both variable to a set \n",
    "var_cat_real_set=set(var_cat_real)\n",
    "var_cat_set=set(var_cat)"
   ]
  },
  {
   "cell_type": "code",
   "execution_count": 13,
   "metadata": {},
   "outputs": [
    {
     "data": {
      "text/plain": [
       "{'birthmonth', 'townsize'}"
      ]
     },
     "execution_count": 13,
     "metadata": {},
     "output_type": "execute_result"
    }
   ],
   "source": [
    "var_cat_real_set.intersection(var_cat_set) # These both variable are actually categorical and has been shown as categorical"
   ]
  },
  {
   "cell_type": "code",
   "execution_count": 14,
   "metadata": {},
   "outputs": [],
   "source": [
    "var_cat_1=list(var_cat_real_set-var_cat_real_set.intersection(var_cat_set)) ## Variables which are to be converted to categorical "
   ]
  },
  {
   "cell_type": "code",
   "execution_count": 15,
   "metadata": {},
   "outputs": [],
   "source": [
    "# variables which are numerical but found as categorical due to Null values \n",
    "var_cat_2=list(var_cat_set-var_cat_real_set.intersection(var_cat_set))"
   ]
  },
  {
   "cell_type": "code",
   "execution_count": 16,
   "metadata": {},
   "outputs": [],
   "source": [
    "# Null values are indicated by \"#NULL!\" which is a string due to which variables become object datatype.replacing them by \"np.NaN\"\n",
    "data=data.replace(to_replace=\"#NULL!\", value=np.NaN)"
   ]
  },
  {
   "cell_type": "code",
   "execution_count": 17,
   "metadata": {},
   "outputs": [],
   "source": [
    "# Finding missing value in variables  \n",
    "miss=data.isna().sum()\n",
    "miss1=miss[miss.values>0]\n",
    "\n",
    "# variables which are to be dropped due to high missing values are added to separate series \n",
    "miss2=miss[miss.values>1000]"
   ]
  },
  {
   "cell_type": "code",
   "execution_count": 18,
   "metadata": {},
   "outputs": [
    {
     "data": {
      "text/plain": [
       "townsize       2\n",
       "commutetime    2\n",
       "longten        3\n",
       "cardten        2\n",
       "dtype: int64"
      ]
     },
     "execution_count": 18,
     "metadata": {},
     "output_type": "execute_result"
    }
   ],
   "source": [
    "# All variables containing missing values \n",
    "miss1"
   ]
  },
  {
   "cell_type": "code",
   "execution_count": 19,
   "metadata": {},
   "outputs": [
    {
     "data": {
      "text/plain": [
       "townsize       2\n",
       "commutetime    2\n",
       "longten        3\n",
       "cardten        2\n",
       "dtype: int64"
      ]
     },
     "execution_count": 19,
     "metadata": {},
     "output_type": "execute_result"
    }
   ],
   "source": [
    "# Now missing which is to be imputed are left \n",
    "miss1"
   ]
  },
  {
   "cell_type": "code",
   "execution_count": 20,
   "metadata": {},
   "outputs": [],
   "source": [
    "# Adding the variables to a list \n",
    "miss1_var=[]\n",
    "for variable in miss1.index:\n",
    "    miss1_var.append(variable)"
   ]
  },
  {
   "cell_type": "code",
   "execution_count": 21,
   "metadata": {},
   "outputs": [
    {
     "data": {
      "text/plain": [
       "{'townsize'}"
      ]
     },
     "execution_count": 21,
     "metadata": {},
     "output_type": "execute_result"
    }
   ],
   "source": [
    "var_cat_real_set.intersection(set(miss1_var)) ## Categorical variable to be imputed "
   ]
  },
  {
   "cell_type": "code",
   "execution_count": 22,
   "metadata": {},
   "outputs": [
    {
     "data": {
      "text/html": [
       "<div>\n",
       "<style scoped>\n",
       "    .dataframe tbody tr th:only-of-type {\n",
       "        vertical-align: middle;\n",
       "    }\n",
       "\n",
       "    .dataframe tbody tr th {\n",
       "        vertical-align: top;\n",
       "    }\n",
       "\n",
       "    .dataframe thead th {\n",
       "        text-align: right;\n",
       "    }\n",
       "</style>\n",
       "<table border=\"1\" class=\"dataframe\">\n",
       "  <thead>\n",
       "    <tr style=\"text-align: right;\">\n",
       "      <th></th>\n",
       "      <th>custid</th>\n",
       "      <th>region</th>\n",
       "      <th>townsize</th>\n",
       "      <th>gender</th>\n",
       "      <th>age</th>\n",
       "      <th>agecat</th>\n",
       "      <th>birthmonth</th>\n",
       "      <th>ed</th>\n",
       "      <th>edcat</th>\n",
       "      <th>jobcat</th>\n",
       "      <th>...</th>\n",
       "      <th>owncd</th>\n",
       "      <th>ownpda</th>\n",
       "      <th>ownpc</th>\n",
       "      <th>ownipod</th>\n",
       "      <th>owngame</th>\n",
       "      <th>ownfax</th>\n",
       "      <th>news</th>\n",
       "      <th>response_01</th>\n",
       "      <th>response_02</th>\n",
       "      <th>response_03</th>\n",
       "    </tr>\n",
       "  </thead>\n",
       "  <tbody>\n",
       "    <tr>\n",
       "      <th>961</th>\n",
       "      <td>3622-JHDLVP-V1E</td>\n",
       "      <td>1.0</td>\n",
       "      <td>NaN</td>\n",
       "      <td>1.0</td>\n",
       "      <td>48.0</td>\n",
       "      <td>4.0</td>\n",
       "      <td>January</td>\n",
       "      <td>19.0</td>\n",
       "      <td>4.0</td>\n",
       "      <td>3.0</td>\n",
       "      <td>...</td>\n",
       "      <td>1.0</td>\n",
       "      <td>1.0</td>\n",
       "      <td>1.0</td>\n",
       "      <td>1.0</td>\n",
       "      <td>1.0</td>\n",
       "      <td>1.0</td>\n",
       "      <td>0.0</td>\n",
       "      <td>0.0</td>\n",
       "      <td>0.0</td>\n",
       "      <td>0.0</td>\n",
       "    </tr>\n",
       "    <tr>\n",
       "      <th>2731</th>\n",
       "      <td>0860-BRGALK-LLR</td>\n",
       "      <td>5.0</td>\n",
       "      <td>NaN</td>\n",
       "      <td>1.0</td>\n",
       "      <td>68.0</td>\n",
       "      <td>6.0</td>\n",
       "      <td>February</td>\n",
       "      <td>15.0</td>\n",
       "      <td>3.0</td>\n",
       "      <td>6.0</td>\n",
       "      <td>...</td>\n",
       "      <td>1.0</td>\n",
       "      <td>0.0</td>\n",
       "      <td>0.0</td>\n",
       "      <td>0.0</td>\n",
       "      <td>0.0</td>\n",
       "      <td>0.0</td>\n",
       "      <td>0.0</td>\n",
       "      <td>0.0</td>\n",
       "      <td>0.0</td>\n",
       "      <td>0.0</td>\n",
       "    </tr>\n",
       "  </tbody>\n",
       "</table>\n",
       "<p>2 rows × 119 columns</p>\n",
       "</div>"
      ],
      "text/plain": [
       "               custid  region townsize  gender   age  agecat birthmonth    ed  \\\n",
       "961   3622-JHDLVP-V1E     1.0      NaN     1.0  48.0     4.0    January  19.0   \n",
       "2731  0860-BRGALK-LLR     5.0      NaN     1.0  68.0     6.0   February  15.0   \n",
       "\n",
       "      edcat  jobcat     ...       owncd  ownpda  ownpc  ownipod  owngame  \\\n",
       "961     4.0     3.0     ...         1.0     1.0    1.0      1.0      1.0   \n",
       "2731    3.0     6.0     ...         1.0     0.0    0.0      0.0      0.0   \n",
       "\n",
       "      ownfax  news  response_01  response_02  response_03  \n",
       "961      1.0   0.0          0.0          0.0          0.0  \n",
       "2731     0.0   0.0          0.0          0.0          0.0  \n",
       "\n",
       "[2 rows x 119 columns]"
      ]
     },
     "execution_count": 22,
     "metadata": {},
     "output_type": "execute_result"
    }
   ],
   "source": [
    "data[data.townsize.isna()==True] # Shows there are 2 rows for which \"townsize \" is missing  "
   ]
  },
  {
   "cell_type": "code",
   "execution_count": 23,
   "metadata": {},
   "outputs": [
    {
     "data": {
      "text/plain": [
       "custid           255\n",
       "region           255\n",
       "townsize         255\n",
       "gender           255\n",
       "age              255\n",
       "agecat           255\n",
       "birthmonth       255\n",
       "ed               255\n",
       "edcat            255\n",
       "jobcat           255\n",
       "union            255\n",
       "employ           255\n",
       "empcat           255\n",
       "retire           255\n",
       "income           255\n",
       "inccat           255\n",
       "debtinc          255\n",
       "creddebt         255\n",
       "othdebt          255\n",
       "default          255\n",
       "jobsat           255\n",
       "marital          255\n",
       "spoused          255\n",
       "spousedcat       255\n",
       "reside           255\n",
       "pets             255\n",
       "pets_cats        255\n",
       "pets_dogs        255\n",
       "pets_birds       255\n",
       "pets_reptiles    255\n",
       "                ... \n",
       "equipten         255\n",
       "callcard         255\n",
       "cardmon          255\n",
       "cardten          255\n",
       "wireless         255\n",
       "wiremon          255\n",
       "wireten          255\n",
       "multline         255\n",
       "voice            255\n",
       "pager            255\n",
       "internet         255\n",
       "callid           255\n",
       "callwait         255\n",
       "forward          255\n",
       "confer           255\n",
       "ebill            255\n",
       "owntv            255\n",
       "hourstv          255\n",
       "ownvcr           255\n",
       "owndvd           255\n",
       "owncd            255\n",
       "ownpda           255\n",
       "ownpc            255\n",
       "ownipod          255\n",
       "owngame          255\n",
       "ownfax           255\n",
       "news             255\n",
       "response_01      255\n",
       "response_02      255\n",
       "response_03      255\n",
       "Length: 119, dtype: int64"
      ]
     },
     "execution_count": 23,
     "metadata": {},
     "output_type": "execute_result"
    }
   ],
   "source": [
    "data[(data.townsize==1.0)].count() # Count is 255 which is not true"
   ]
  },
  {
   "cell_type": "code",
   "execution_count": 24,
   "metadata": {},
   "outputs": [
    {
     "data": {
      "text/plain": [
       "custid           1436\n",
       "region           1436\n",
       "townsize         1436\n",
       "gender           1436\n",
       "age              1436\n",
       "agecat           1436\n",
       "birthmonth       1436\n",
       "ed               1436\n",
       "edcat            1436\n",
       "jobcat           1436\n",
       "union            1436\n",
       "employ           1436\n",
       "empcat           1436\n",
       "retire           1436\n",
       "income           1436\n",
       "inccat           1436\n",
       "debtinc          1436\n",
       "creddebt         1436\n",
       "othdebt          1436\n",
       "default          1436\n",
       "jobsat           1436\n",
       "marital          1436\n",
       "spoused          1436\n",
       "spousedcat       1436\n",
       "reside           1436\n",
       "pets             1436\n",
       "pets_cats        1436\n",
       "pets_dogs        1436\n",
       "pets_birds       1436\n",
       "pets_reptiles    1436\n",
       "                 ... \n",
       "equipten         1436\n",
       "callcard         1436\n",
       "cardmon          1436\n",
       "cardten          1436\n",
       "wireless         1436\n",
       "wiremon          1436\n",
       "wireten          1436\n",
       "multline         1436\n",
       "voice            1436\n",
       "pager            1436\n",
       "internet         1436\n",
       "callid           1436\n",
       "callwait         1436\n",
       "forward          1436\n",
       "confer           1436\n",
       "ebill            1436\n",
       "owntv            1436\n",
       "hourstv          1436\n",
       "ownvcr           1436\n",
       "owndvd           1436\n",
       "owncd            1436\n",
       "ownpda           1436\n",
       "ownpc            1436\n",
       "ownipod          1436\n",
       "owngame          1436\n",
       "ownfax           1436\n",
       "news             1436\n",
       "response_01      1436\n",
       "response_02      1436\n",
       "response_03      1436\n",
       "Length: 119, dtype: int64"
      ]
     },
     "execution_count": 24,
     "metadata": {},
     "output_type": "execute_result"
    }
   ],
   "source": [
    "# Count is 1436 which is true this confirms the value 1 is written as numerical 1.0 and string 1.00 so convert it to float to ease calculation\n",
    "data[(data.townsize==1.0)|(data.townsize=='1.00')].count()\n",
    "  "
   ]
  },
  {
   "cell_type": "code",
   "execution_count": 25,
   "metadata": {},
   "outputs": [],
   "source": [
    "data.townsize=data.townsize.astype(float) # Converting \"townsize\" variable to float "
   ]
  },
  {
   "cell_type": "code",
   "execution_count": 26,
   "metadata": {
    "scrolled": true
   },
   "outputs": [
    {
     "data": {
      "text/plain": [
       "custid           1436\n",
       "region           1436\n",
       "townsize         1436\n",
       "gender           1436\n",
       "age              1436\n",
       "agecat           1436\n",
       "birthmonth       1436\n",
       "ed               1436\n",
       "edcat            1436\n",
       "jobcat           1436\n",
       "union            1436\n",
       "employ           1436\n",
       "empcat           1436\n",
       "retire           1436\n",
       "income           1436\n",
       "inccat           1436\n",
       "debtinc          1436\n",
       "creddebt         1436\n",
       "othdebt          1436\n",
       "default          1436\n",
       "jobsat           1436\n",
       "marital          1436\n",
       "spoused          1436\n",
       "spousedcat       1436\n",
       "reside           1436\n",
       "pets             1436\n",
       "pets_cats        1436\n",
       "pets_dogs        1436\n",
       "pets_birds       1436\n",
       "pets_reptiles    1436\n",
       "                 ... \n",
       "equipten         1436\n",
       "callcard         1436\n",
       "cardmon          1436\n",
       "cardten          1436\n",
       "wireless         1436\n",
       "wiremon          1436\n",
       "wireten          1436\n",
       "multline         1436\n",
       "voice            1436\n",
       "pager            1436\n",
       "internet         1436\n",
       "callid           1436\n",
       "callwait         1436\n",
       "forward          1436\n",
       "confer           1436\n",
       "ebill            1436\n",
       "owntv            1436\n",
       "hourstv          1436\n",
       "ownvcr           1436\n",
       "owndvd           1436\n",
       "owncd            1436\n",
       "ownpda           1436\n",
       "ownpc            1436\n",
       "ownipod          1436\n",
       "owngame          1436\n",
       "ownfax           1436\n",
       "news             1436\n",
       "response_01      1436\n",
       "response_02      1436\n",
       "response_03      1436\n",
       "Length: 119, dtype: int64"
      ]
     },
     "execution_count": 26,
     "metadata": {},
     "output_type": "execute_result"
    }
   ],
   "source": [
    "data[data.townsize==1.0].count()  # 1436 -- Actual value "
   ]
  },
  {
   "cell_type": "code",
   "execution_count": 27,
   "metadata": {},
   "outputs": [],
   "source": [
    "# Categorical value so filling by mode \n",
    "data['townsize']=data['townsize'].fillna(value=float(data['townsize'].mode()))"
   ]
  },
  {
   "cell_type": "code",
   "execution_count": 28,
   "metadata": {},
   "outputs": [
    {
     "data": {
      "text/html": [
       "<div>\n",
       "<style scoped>\n",
       "    .dataframe tbody tr th:only-of-type {\n",
       "        vertical-align: middle;\n",
       "    }\n",
       "\n",
       "    .dataframe tbody tr th {\n",
       "        vertical-align: top;\n",
       "    }\n",
       "\n",
       "    .dataframe thead th {\n",
       "        text-align: right;\n",
       "    }\n",
       "</style>\n",
       "<table border=\"1\" class=\"dataframe\">\n",
       "  <thead>\n",
       "    <tr style=\"text-align: right;\">\n",
       "      <th></th>\n",
       "      <th>custid</th>\n",
       "      <th>region</th>\n",
       "      <th>townsize</th>\n",
       "      <th>gender</th>\n",
       "      <th>age</th>\n",
       "      <th>agecat</th>\n",
       "      <th>birthmonth</th>\n",
       "      <th>ed</th>\n",
       "      <th>edcat</th>\n",
       "      <th>jobcat</th>\n",
       "      <th>...</th>\n",
       "      <th>owncd</th>\n",
       "      <th>ownpda</th>\n",
       "      <th>ownpc</th>\n",
       "      <th>ownipod</th>\n",
       "      <th>owngame</th>\n",
       "      <th>ownfax</th>\n",
       "      <th>news</th>\n",
       "      <th>response_01</th>\n",
       "      <th>response_02</th>\n",
       "      <th>response_03</th>\n",
       "    </tr>\n",
       "  </thead>\n",
       "  <tbody>\n",
       "  </tbody>\n",
       "</table>\n",
       "<p>0 rows × 119 columns</p>\n",
       "</div>"
      ],
      "text/plain": [
       "Empty DataFrame\n",
       "Columns: [custid, region, townsize, gender, age, agecat, birthmonth, ed, edcat, jobcat, union, employ, empcat, retire, income, inccat, debtinc, creddebt, othdebt, default, jobsat, marital, spoused, spousedcat, reside, pets, pets_cats, pets_dogs, pets_birds, pets_reptiles, pets_small, pets_saltfish, pets_freshfish, homeown, hometype, address, addresscat, cars, carown, cartype, carvalue, carcatvalue, carbought, carbuy, commute, commutecat, commutetime, commutecar, commutemotorcycle, commutecarpool, commutebus, commuterail, commutepublic, commutebike, commutewalk, commutenonmotor, telecommute, reason, polview, polparty, polcontrib, vote, card, cardtype, cardbenefit, cardfee, cardtenure, cardtenurecat, card2, card2type, card2benefit, card2fee, card2tenure, card2tenurecat, carditems, cardspent, card2items, card2spent, active, bfast, tenure, churn, longmon, longten, tollfree, tollmon, tollten, equip, equipmon, equipten, callcard, cardmon, cardten, wireless, wiremon, wireten, multline, voice, pager, internet, ...]\n",
       "Index: []\n",
       "\n",
       "[0 rows x 119 columns]"
      ]
     },
     "execution_count": 28,
     "metadata": {},
     "output_type": "execute_result"
    }
   ],
   "source": [
    "data[data.townsize.isna()==True] # Comfirming there is no missing value"
   ]
  },
  {
   "cell_type": "markdown",
   "metadata": {},
   "source": [
    "### Now Handling Numerical missing values so converting variables to float \n"
   ]
  },
  {
   "cell_type": "code",
   "execution_count": 29,
   "metadata": {},
   "outputs": [],
   "source": [
    "# Numercal Variables = All variables - Real Categorical variables \n",
    "miss1_var_num=list(set(miss1_var)-var_cat_real_set.intersection(set(miss1_var))) "
   ]
  },
  {
   "cell_type": "code",
   "execution_count": 30,
   "metadata": {},
   "outputs": [
    {
     "data": {
      "text/plain": [
       "['cardten', 'commutetime', 'longten']"
      ]
     },
     "execution_count": 30,
     "metadata": {},
     "output_type": "execute_result"
    }
   ],
   "source": [
    "miss1_var_num "
   ]
  },
  {
   "cell_type": "code",
   "execution_count": 31,
   "metadata": {},
   "outputs": [],
   "source": [
    "for variable in miss1_var_num:\n",
    "    data[variable]=data[variable].astype(float) # Conveting variables to float \n",
    "    data[variable]=data[variable].fillna(data[variable].median()) # Using \"median\" to fill \"NaN\" because outliers have not been treated "
   ]
  },
  {
   "cell_type": "code",
   "execution_count": 32,
   "metadata": {},
   "outputs": [
    {
     "data": {
      "text/plain": [
       "Series([], dtype: int64)"
      ]
     },
     "execution_count": 32,
     "metadata": {},
     "output_type": "execute_result"
    }
   ],
   "source": [
    "# Confirming that there is No Missing values \n",
    "miss=data.isna().sum()\n",
    "miss1=miss[miss.values>0]\n",
    "miss1"
   ]
  },
  {
   "cell_type": "markdown",
   "metadata": {},
   "source": [
    "### Getting names of Numerical variable for outlier treatment "
   ]
  },
  {
   "cell_type": "code",
   "execution_count": 33,
   "metadata": {},
   "outputs": [],
   "source": [
    "# Adding all Column to a list   \n",
    "data_var_all=[]\n",
    "for variable in data.columns:\n",
    "    data_var_all.append(variable)"
   ]
  },
  {
   "cell_type": "code",
   "execution_count": 34,
   "metadata": {},
   "outputs": [],
   "source": [
    "# Getting numerical variables -> Numerical variable = All variable - Real categorical variables \n",
    "data_num_var=list(set(data_var_all)-set(var_cat_real))"
   ]
  },
  {
   "cell_type": "code",
   "execution_count": 35,
   "metadata": {},
   "outputs": [],
   "source": [
    "data_num_var.remove('custid') # \" custid \" is nor a categorical nor numeric. So removing it "
   ]
  },
  {
   "cell_type": "code",
   "execution_count": 36,
   "metadata": {},
   "outputs": [],
   "source": [
    "# Outlier Treatment at 99%ile and 1%ile \n",
    "for variable in data_num_var:\n",
    "    data[variable]=data[variable].clip_upper(data[variable].quantile(0.99))\n",
    "    data[variable]=data[variable].clip_lower(data[variable].quantile(0.01))\n",
    "        "
   ]
  },
  {
   "cell_type": "markdown",
   "metadata": {},
   "source": [
    "### Separating categorical and numerical variable and changing to respective data type"
   ]
  },
  {
   "cell_type": "code",
   "execution_count": 37,
   "metadata": {},
   "outputs": [
    {
     "data": {
      "text/plain": [
       "Index(['custid', 'birthmonth'], dtype='object')"
      ]
     },
     "execution_count": 37,
     "metadata": {},
     "output_type": "execute_result"
    }
   ],
   "source": [
    "data.select_dtypes('object').columns # as of now only two categorical variable "
   ]
  },
  {
   "cell_type": "code",
   "execution_count": 38,
   "metadata": {},
   "outputs": [
    {
     "data": {
      "text/html": [
       "<div>\n",
       "<style scoped>\n",
       "    .dataframe tbody tr th:only-of-type {\n",
       "        vertical-align: middle;\n",
       "    }\n",
       "\n",
       "    .dataframe tbody tr th {\n",
       "        vertical-align: top;\n",
       "    }\n",
       "\n",
       "    .dataframe thead th {\n",
       "        text-align: right;\n",
       "    }\n",
       "</style>\n",
       "<table border=\"1\" class=\"dataframe\">\n",
       "  <thead>\n",
       "    <tr style=\"text-align: right;\">\n",
       "      <th></th>\n",
       "      <th>custid</th>\n",
       "      <th>region</th>\n",
       "      <th>townsize</th>\n",
       "      <th>gender</th>\n",
       "      <th>age</th>\n",
       "      <th>agecat</th>\n",
       "      <th>birthmonth</th>\n",
       "      <th>ed</th>\n",
       "      <th>edcat</th>\n",
       "      <th>jobcat</th>\n",
       "      <th>...</th>\n",
       "      <th>owncd</th>\n",
       "      <th>ownpda</th>\n",
       "      <th>ownpc</th>\n",
       "      <th>ownipod</th>\n",
       "      <th>owngame</th>\n",
       "      <th>ownfax</th>\n",
       "      <th>news</th>\n",
       "      <th>response_01</th>\n",
       "      <th>response_02</th>\n",
       "      <th>response_03</th>\n",
       "    </tr>\n",
       "  </thead>\n",
       "  <tbody>\n",
       "    <tr>\n",
       "      <th>0</th>\n",
       "      <td>3964-QJWTRG-NPN</td>\n",
       "      <td>1.0</td>\n",
       "      <td>2.0</td>\n",
       "      <td>1.0</td>\n",
       "      <td>20.0</td>\n",
       "      <td>2.0</td>\n",
       "      <td>September</td>\n",
       "      <td>15.0</td>\n",
       "      <td>3.0</td>\n",
       "      <td>1.0</td>\n",
       "      <td>...</td>\n",
       "      <td>0.0</td>\n",
       "      <td>0.0</td>\n",
       "      <td>0.0</td>\n",
       "      <td>1.0</td>\n",
       "      <td>1.0</td>\n",
       "      <td>0.0</td>\n",
       "      <td>0.0</td>\n",
       "      <td>0.0</td>\n",
       "      <td>1.0</td>\n",
       "      <td>0.0</td>\n",
       "    </tr>\n",
       "    <tr>\n",
       "      <th>1</th>\n",
       "      <td>0648-AIPJSP-UVM</td>\n",
       "      <td>5.0</td>\n",
       "      <td>5.0</td>\n",
       "      <td>0.0</td>\n",
       "      <td>22.0</td>\n",
       "      <td>2.0</td>\n",
       "      <td>May</td>\n",
       "      <td>17.0</td>\n",
       "      <td>4.0</td>\n",
       "      <td>2.0</td>\n",
       "      <td>...</td>\n",
       "      <td>1.0</td>\n",
       "      <td>1.0</td>\n",
       "      <td>1.0</td>\n",
       "      <td>1.0</td>\n",
       "      <td>1.0</td>\n",
       "      <td>1.0</td>\n",
       "      <td>1.0</td>\n",
       "      <td>0.0</td>\n",
       "      <td>0.0</td>\n",
       "      <td>0.0</td>\n",
       "    </tr>\n",
       "    <tr>\n",
       "      <th>2</th>\n",
       "      <td>5195-TLUDJE-HVO</td>\n",
       "      <td>3.0</td>\n",
       "      <td>4.0</td>\n",
       "      <td>1.0</td>\n",
       "      <td>67.0</td>\n",
       "      <td>6.0</td>\n",
       "      <td>June</td>\n",
       "      <td>14.0</td>\n",
       "      <td>2.0</td>\n",
       "      <td>2.0</td>\n",
       "      <td>...</td>\n",
       "      <td>1.0</td>\n",
       "      <td>0.0</td>\n",
       "      <td>0.0</td>\n",
       "      <td>0.0</td>\n",
       "      <td>0.0</td>\n",
       "      <td>0.0</td>\n",
       "      <td>1.0</td>\n",
       "      <td>0.0</td>\n",
       "      <td>0.0</td>\n",
       "      <td>0.0</td>\n",
       "    </tr>\n",
       "    <tr>\n",
       "      <th>3</th>\n",
       "      <td>4459-VLPQUH-3OL</td>\n",
       "      <td>4.0</td>\n",
       "      <td>3.0</td>\n",
       "      <td>0.0</td>\n",
       "      <td>23.0</td>\n",
       "      <td>2.0</td>\n",
       "      <td>May</td>\n",
       "      <td>16.0</td>\n",
       "      <td>3.0</td>\n",
       "      <td>2.0</td>\n",
       "      <td>...</td>\n",
       "      <td>1.0</td>\n",
       "      <td>0.0</td>\n",
       "      <td>1.0</td>\n",
       "      <td>1.0</td>\n",
       "      <td>1.0</td>\n",
       "      <td>0.0</td>\n",
       "      <td>1.0</td>\n",
       "      <td>1.0</td>\n",
       "      <td>0.0</td>\n",
       "      <td>0.0</td>\n",
       "    </tr>\n",
       "    <tr>\n",
       "      <th>4</th>\n",
       "      <td>8158-SMTQFB-CNO</td>\n",
       "      <td>2.0</td>\n",
       "      <td>2.0</td>\n",
       "      <td>0.0</td>\n",
       "      <td>26.0</td>\n",
       "      <td>3.0</td>\n",
       "      <td>July</td>\n",
       "      <td>16.0</td>\n",
       "      <td>3.0</td>\n",
       "      <td>2.0</td>\n",
       "      <td>...</td>\n",
       "      <td>1.0</td>\n",
       "      <td>0.0</td>\n",
       "      <td>1.0</td>\n",
       "      <td>0.0</td>\n",
       "      <td>1.0</td>\n",
       "      <td>0.0</td>\n",
       "      <td>0.0</td>\n",
       "      <td>0.0</td>\n",
       "      <td>1.0</td>\n",
       "      <td>0.0</td>\n",
       "    </tr>\n",
       "  </tbody>\n",
       "</table>\n",
       "<p>5 rows × 119 columns</p>\n",
       "</div>"
      ],
      "text/plain": [
       "            custid  region  townsize  gender   age  agecat birthmonth    ed  \\\n",
       "0  3964-QJWTRG-NPN     1.0       2.0     1.0  20.0     2.0  September  15.0   \n",
       "1  0648-AIPJSP-UVM     5.0       5.0     0.0  22.0     2.0        May  17.0   \n",
       "2  5195-TLUDJE-HVO     3.0       4.0     1.0  67.0     6.0       June  14.0   \n",
       "3  4459-VLPQUH-3OL     4.0       3.0     0.0  23.0     2.0        May  16.0   \n",
       "4  8158-SMTQFB-CNO     2.0       2.0     0.0  26.0     3.0       July  16.0   \n",
       "\n",
       "   edcat  jobcat     ...       owncd  ownpda  ownpc  ownipod  owngame  ownfax  \\\n",
       "0    3.0     1.0     ...         0.0     0.0    0.0      1.0      1.0     0.0   \n",
       "1    4.0     2.0     ...         1.0     1.0    1.0      1.0      1.0     1.0   \n",
       "2    2.0     2.0     ...         1.0     0.0    0.0      0.0      0.0     0.0   \n",
       "3    3.0     2.0     ...         1.0     0.0    1.0      1.0      1.0     0.0   \n",
       "4    3.0     2.0     ...         1.0     0.0    1.0      0.0      1.0     0.0   \n",
       "\n",
       "   news  response_01  response_02  response_03  \n",
       "0   0.0          0.0          1.0          0.0  \n",
       "1   1.0          0.0          0.0          0.0  \n",
       "2   1.0          0.0          0.0          0.0  \n",
       "3   1.0          1.0          0.0          0.0  \n",
       "4   0.0          0.0          1.0          0.0  \n",
       "\n",
       "[5 rows x 119 columns]"
      ]
     },
     "execution_count": 38,
     "metadata": {},
     "output_type": "execute_result"
    }
   ],
   "source": [
    "data.head()"
   ]
  },
  {
   "cell_type": "code",
   "execution_count": 39,
   "metadata": {},
   "outputs": [],
   "source": [
    "# Converting \"birthmonth\" to \"object\" and creating dummies \n",
    "var_cat_real.remove('birthmonth')\n",
    "data['birthmonth']=data['birthmonth'].astype('object')\n",
    "data=create_dummies(data,'birthmonth') "
   ]
  },
  {
   "cell_type": "code",
   "execution_count": 40,
   "metadata": {},
   "outputs": [],
   "source": [
    "# Making variable categorical and converting them to dummies \n",
    "for variable in var_cat_real:\n",
    "    data[variable]=data[variable].astype('int')\n",
    "    data[variable]=data[variable].astype('object')\n",
    "    data=create_dummies(data,variable)       "
   ]
  },
  {
   "cell_type": "code",
   "execution_count": 41,
   "metadata": {},
   "outputs": [
    {
     "data": {
      "text/html": [
       "<div>\n",
       "<style scoped>\n",
       "    .dataframe tbody tr th:only-of-type {\n",
       "        vertical-align: middle;\n",
       "    }\n",
       "\n",
       "    .dataframe tbody tr th {\n",
       "        vertical-align: top;\n",
       "    }\n",
       "\n",
       "    .dataframe thead th {\n",
       "        text-align: right;\n",
       "    }\n",
       "</style>\n",
       "<table border=\"1\" class=\"dataframe\">\n",
       "  <thead>\n",
       "    <tr style=\"text-align: right;\">\n",
       "      <th></th>\n",
       "      <th>custid</th>\n",
       "      <th>age</th>\n",
       "      <th>ed</th>\n",
       "      <th>income</th>\n",
       "      <th>debtinc</th>\n",
       "      <th>creddebt</th>\n",
       "      <th>othdebt</th>\n",
       "      <th>spoused</th>\n",
       "      <th>reside</th>\n",
       "      <th>pets</th>\n",
       "      <th>...</th>\n",
       "      <th>owncd_1</th>\n",
       "      <th>ownpda_1</th>\n",
       "      <th>ownpc_1</th>\n",
       "      <th>ownipod_1</th>\n",
       "      <th>owngame_1</th>\n",
       "      <th>ownfax_1</th>\n",
       "      <th>news_1</th>\n",
       "      <th>response_01_1</th>\n",
       "      <th>response_02_1</th>\n",
       "      <th>response_03_1</th>\n",
       "    </tr>\n",
       "  </thead>\n",
       "  <tbody>\n",
       "    <tr>\n",
       "      <th>0</th>\n",
       "      <td>3964-QJWTRG-NPN</td>\n",
       "      <td>20.0</td>\n",
       "      <td>15.0</td>\n",
       "      <td>31.0</td>\n",
       "      <td>11.1</td>\n",
       "      <td>1.20</td>\n",
       "      <td>2.24</td>\n",
       "      <td>-1.0</td>\n",
       "      <td>3.0</td>\n",
       "      <td>0.0</td>\n",
       "      <td>...</td>\n",
       "      <td>0</td>\n",
       "      <td>0</td>\n",
       "      <td>0</td>\n",
       "      <td>1</td>\n",
       "      <td>1</td>\n",
       "      <td>0</td>\n",
       "      <td>0</td>\n",
       "      <td>0</td>\n",
       "      <td>1</td>\n",
       "      <td>0</td>\n",
       "    </tr>\n",
       "    <tr>\n",
       "      <th>1</th>\n",
       "      <td>0648-AIPJSP-UVM</td>\n",
       "      <td>22.0</td>\n",
       "      <td>17.0</td>\n",
       "      <td>15.0</td>\n",
       "      <td>18.6</td>\n",
       "      <td>1.22</td>\n",
       "      <td>1.57</td>\n",
       "      <td>-1.0</td>\n",
       "      <td>2.0</td>\n",
       "      <td>6.0</td>\n",
       "      <td>...</td>\n",
       "      <td>1</td>\n",
       "      <td>1</td>\n",
       "      <td>1</td>\n",
       "      <td>1</td>\n",
       "      <td>1</td>\n",
       "      <td>1</td>\n",
       "      <td>1</td>\n",
       "      <td>0</td>\n",
       "      <td>0</td>\n",
       "      <td>0</td>\n",
       "    </tr>\n",
       "    <tr>\n",
       "      <th>2</th>\n",
       "      <td>5195-TLUDJE-HVO</td>\n",
       "      <td>67.0</td>\n",
       "      <td>14.0</td>\n",
       "      <td>35.0</td>\n",
       "      <td>9.9</td>\n",
       "      <td>0.93</td>\n",
       "      <td>2.54</td>\n",
       "      <td>13.0</td>\n",
       "      <td>3.0</td>\n",
       "      <td>3.0</td>\n",
       "      <td>...</td>\n",
       "      <td>1</td>\n",
       "      <td>0</td>\n",
       "      <td>0</td>\n",
       "      <td>0</td>\n",
       "      <td>0</td>\n",
       "      <td>0</td>\n",
       "      <td>1</td>\n",
       "      <td>0</td>\n",
       "      <td>0</td>\n",
       "      <td>0</td>\n",
       "    </tr>\n",
       "    <tr>\n",
       "      <th>3</th>\n",
       "      <td>4459-VLPQUH-3OL</td>\n",
       "      <td>23.0</td>\n",
       "      <td>16.0</td>\n",
       "      <td>20.0</td>\n",
       "      <td>5.7</td>\n",
       "      <td>0.03</td>\n",
       "      <td>1.12</td>\n",
       "      <td>18.0</td>\n",
       "      <td>5.0</td>\n",
       "      <td>0.0</td>\n",
       "      <td>...</td>\n",
       "      <td>1</td>\n",
       "      <td>0</td>\n",
       "      <td>1</td>\n",
       "      <td>1</td>\n",
       "      <td>1</td>\n",
       "      <td>0</td>\n",
       "      <td>1</td>\n",
       "      <td>1</td>\n",
       "      <td>0</td>\n",
       "      <td>0</td>\n",
       "    </tr>\n",
       "    <tr>\n",
       "      <th>4</th>\n",
       "      <td>8158-SMTQFB-CNO</td>\n",
       "      <td>26.0</td>\n",
       "      <td>16.0</td>\n",
       "      <td>23.0</td>\n",
       "      <td>1.7</td>\n",
       "      <td>0.21</td>\n",
       "      <td>0.18</td>\n",
       "      <td>13.0</td>\n",
       "      <td>4.0</td>\n",
       "      <td>0.0</td>\n",
       "      <td>...</td>\n",
       "      <td>1</td>\n",
       "      <td>0</td>\n",
       "      <td>1</td>\n",
       "      <td>0</td>\n",
       "      <td>1</td>\n",
       "      <td>0</td>\n",
       "      <td>0</td>\n",
       "      <td>0</td>\n",
       "      <td>1</td>\n",
       "      <td>0</td>\n",
       "    </tr>\n",
       "  </tbody>\n",
       "</table>\n",
       "<p>5 rows × 391 columns</p>\n",
       "</div>"
      ],
      "text/plain": [
       "            custid   age    ed  income  debtinc  creddebt  othdebt  spoused  \\\n",
       "0  3964-QJWTRG-NPN  20.0  15.0    31.0     11.1      1.20     2.24     -1.0   \n",
       "1  0648-AIPJSP-UVM  22.0  17.0    15.0     18.6      1.22     1.57     -1.0   \n",
       "2  5195-TLUDJE-HVO  67.0  14.0    35.0      9.9      0.93     2.54     13.0   \n",
       "3  4459-VLPQUH-3OL  23.0  16.0    20.0      5.7      0.03     1.12     18.0   \n",
       "4  8158-SMTQFB-CNO  26.0  16.0    23.0      1.7      0.21     0.18     13.0   \n",
       "\n",
       "   reside  pets      ...        owncd_1  ownpda_1  ownpc_1  ownipod_1  \\\n",
       "0     3.0   0.0      ...              0         0        0          1   \n",
       "1     2.0   6.0      ...              1         1        1          1   \n",
       "2     3.0   3.0      ...              1         0        0          0   \n",
       "3     5.0   0.0      ...              1         0        1          1   \n",
       "4     4.0   0.0      ...              1         0        1          0   \n",
       "\n",
       "   owngame_1  ownfax_1  news_1  response_01_1  response_02_1  response_03_1  \n",
       "0          1         0       0              0              1              0  \n",
       "1          1         1       1              0              0              0  \n",
       "2          0         0       1              0              0              0  \n",
       "3          1         0       1              1              0              0  \n",
       "4          1         0       0              0              1              0  \n",
       "\n",
       "[5 rows x 391 columns]"
      ]
     },
     "execution_count": 41,
     "metadata": {},
     "output_type": "execute_result"
    }
   ],
   "source": [
    "data.head()"
   ]
  },
  {
   "cell_type": "code",
   "execution_count": 42,
   "metadata": {},
   "outputs": [],
   "source": [
    "data['totalspent']=data['cardspent']+data['card2spent'] # Creating \" Y \"variable as \"totalspent\""
   ]
  },
  {
   "cell_type": "code",
   "execution_count": 43,
   "metadata": {},
   "outputs": [],
   "source": [
    "data.drop(['cardspent','card2spent'],axis=1,inplace=True) # Dropping variable "
   ]
  },
  {
   "cell_type": "code",
   "execution_count": 44,
   "metadata": {},
   "outputs": [],
   "source": [
    "data.drop('custid',axis=1,inplace=True) # Dropping \"custid\" because it is not used in any analysis "
   ]
  },
  {
   "cell_type": "code",
   "execution_count": 45,
   "metadata": {},
   "outputs": [],
   "source": [
    "# Taking log transformation of \"y\" variable ie \"totalspent\" beacuse it is not normal  \n",
    "data['totalspent']=np.log(data['totalspent']+1)"
   ]
  },
  {
   "cell_type": "markdown",
   "metadata": {},
   "source": [
    "### Making First Model "
   ]
  },
  {
   "cell_type": "code",
   "execution_count": 46,
   "metadata": {},
   "outputs": [],
   "source": [
    "#Splitting the Columns\n",
    "feature_columns = data.columns.difference( ['totalspent'] )"
   ]
  },
  {
   "cell_type": "code",
   "execution_count": 47,
   "metadata": {},
   "outputs": [],
   "source": [
    "# Splitting the Data \n",
    "train_X, test_X, train_y, test_y = train_test_split( data[feature_columns],\n",
    "                                                  data['totalspent'],\n",
    "                                                  test_size = 0.3,\n",
    "                                                  random_state = 123 )"
   ]
  },
  {
   "cell_type": "code",
   "execution_count": 48,
   "metadata": {},
   "outputs": [],
   "source": [
    "# Adding Constant in Train Data and Buliding a OLS(Oridinay Least Square) Linear Regression \n",
    "import statsmodels.api as sm\n",
    "train_X = sm.add_constant(train_X)\n",
    "lm=sm.OLS(train_y,train_X).fit()"
   ]
  },
  {
   "cell_type": "code",
   "execution_count": 49,
   "metadata": {},
   "outputs": [],
   "source": [
    "# Sorting p_values in descending order\n",
    "summary_pvalue=lm.pvalues.sort_values(ascending=False)"
   ]
  },
  {
   "cell_type": "code",
   "execution_count": 50,
   "metadata": {},
   "outputs": [
    {
     "data": {
      "text/plain": [
       "address_15           9.996580e-01\n",
       "inccat_5             9.975532e-01\n",
       "cardtenure_35        9.936878e-01\n",
       "card2tenure_13       9.929563e-01\n",
       "address_54           9.918478e-01\n",
       "cardtenure_14        9.850369e-01\n",
       "polcontrib_1         9.850157e-01\n",
       "carbought_1          9.824322e-01\n",
       "cars_1               9.783601e-01\n",
       "card2tenure_14       9.771210e-01\n",
       "commutecat_4         9.755387e-01\n",
       "region_3             9.694335e-01\n",
       "card2tenurecat_5     9.672653e-01\n",
       "address_9            9.649925e-01\n",
       "cardtenure_19        9.500495e-01\n",
       "polview_3            9.483189e-01\n",
       "forward_1            9.444252e-01\n",
       "commute_4            9.437780e-01\n",
       "jobsat_3             9.360630e-01\n",
       "cardtenure_37        9.353070e-01\n",
       "ebill_1              9.350520e-01\n",
       "townsize_2           9.342869e-01\n",
       "cardtenure_13        9.310631e-01\n",
       "address_42           9.310241e-01\n",
       "ownfax_1             9.287878e-01\n",
       "address_41           9.284087e-01\n",
       "callwait_1           9.281421e-01\n",
       "edcat_5              9.280813e-01\n",
       "employ_46            9.266128e-01\n",
       "address_24           9.256289e-01\n",
       "                        ...      \n",
       "spousedcat_4         1.821289e-02\n",
       "agecat_6             1.692932e-02\n",
       "address_10           1.589180e-02\n",
       "jobcat_5             1.133158e-02\n",
       "agecat_5             1.041743e-02\n",
       "cardtenure_39        9.086060e-03\n",
       "employ_34            8.552047e-03\n",
       "employ_32            7.175964e-03\n",
       "gender_1             6.046308e-03\n",
       "card2tenure_26       5.764922e-03\n",
       "owncd_1              4.786975e-03\n",
       "inccat_4             4.030472e-03\n",
       "cardtenure_23        3.799214e-03\n",
       "employ_16            1.294501e-03\n",
       "inccat_2             1.115365e-03\n",
       "inccat_3             2.050521e-05\n",
       "reason_9             5.397414e-06\n",
       "income               6.164202e-09\n",
       "card2_5              5.697121e-14\n",
       "reason_2             3.166561e-21\n",
       "card_5               4.107103e-26\n",
       "card2_2              1.667726e-32\n",
       "card2_3              7.811389e-34\n",
       "card2_4              4.528515e-34\n",
       "card_2               3.336523e-90\n",
       "card_3               1.838581e-97\n",
       "card_4              1.661543e-118\n",
       "const               5.228810e-218\n",
       "card2items          3.508235e-285\n",
       "carditems           3.659050e-320\n",
       "Length: 389, dtype: float64"
      ]
     },
     "execution_count": 50,
     "metadata": {},
     "output_type": "execute_result"
    }
   ],
   "source": [
    "summary_pvalue"
   ]
  },
  {
   "cell_type": "code",
   "execution_count": 51,
   "metadata": {},
   "outputs": [],
   "source": [
    "# Taking variables which have p-value less than 0.02\n",
    "while(summary_pvalue[0])>0.02:\n",
    "    train_X.drop(summary_pvalue.index[0],axis=1,inplace=True)\n",
    "    lm=sm.OLS(train_y,train_X).fit()\n",
    "    summary_pvalue=lm.pvalues.sort_values(ascending=False)   "
   ]
  },
  {
   "cell_type": "code",
   "execution_count": 52,
   "metadata": {},
   "outputs": [
    {
     "name": "stdout",
     "output_type": "stream",
     "text": [
      "                            OLS Regression Results                            \n",
      "==============================================================================\n",
      "Dep. Variable:             totalspent   R-squared:                       0.708\n",
      "Model:                            OLS   Adj. R-squared:                  0.705\n",
      "Method:                 Least Squares   F-statistic:                     255.0\n",
      "Date:                Sat, 27 Oct 2018   Prob (F-statistic):               0.00\n",
      "Time:                        16:31:17   Log-Likelihood:                -1323.4\n",
      "No. Observations:                3500   AIC:                             2715.\n",
      "Df Residuals:                    3466   BIC:                             2924.\n",
      "Df Model:                          33                                         \n",
      "Covariance Type:            nonrobust                                         \n",
      "==================================================================================\n",
      "                     coef    std err          t      P>|t|      [0.025      0.975]\n",
      "----------------------------------------------------------------------------------\n",
      "const              5.0151      0.065     76.590      0.000       4.887       5.143\n",
      "age               -0.0037      0.002     -2.331      0.020      -0.007      -0.001\n",
      "agecat_3           0.0689      0.027      2.566      0.010       0.016       0.121\n",
      "agecat_4           0.0955      0.040      2.388      0.017       0.017       0.174\n",
      "agecat_5           0.1600      0.060      2.646      0.008       0.041       0.279\n",
      "agecat_6           0.2101      0.081      2.590      0.010       0.051       0.369\n",
      "card2_2           -0.2514      0.020    -12.716      0.000      -0.290      -0.213\n",
      "card2_3           -0.2539      0.020    -12.941      0.000      -0.292      -0.215\n",
      "card2_4           -0.2811      0.022    -13.006      0.000      -0.323      -0.239\n",
      "card2_5           -0.2159      0.028     -7.659      0.000      -0.271      -0.161\n",
      "card2items         0.1051      0.002     42.270      0.000       0.100       0.110\n",
      "card2tenure_26     0.1481      0.039      3.766      0.000       0.071       0.225\n",
      "card_2            -0.4492      0.020    -22.565      0.000      -0.488      -0.410\n",
      "card_3            -0.4617      0.020    -23.148      0.000      -0.501      -0.423\n",
      "card_4            -0.5226      0.021    -25.455      0.000      -0.563      -0.482\n",
      "card_5            -0.3727      0.033    -11.263      0.000      -0.438      -0.308\n",
      "carditems          0.0825      0.002     45.609      0.000       0.079       0.086\n",
      "cardtenure_39      0.1016      0.042      2.433      0.015       0.020       0.183\n",
      "ed                -0.0077      0.002     -3.522      0.000      -0.012      -0.003\n",
      "employ_16         -0.1132      0.044     -2.550      0.011      -0.200      -0.026\n",
      "employ_32          0.2562      0.085      3.022      0.003       0.090       0.422\n",
      "employ_34         -0.2190      0.083     -2.631      0.009      -0.382      -0.056\n",
      "equipten        2.644e-05   7.77e-06      3.404      0.001    1.12e-05    4.17e-05\n",
      "gender_1          -0.0385      0.012     -3.175      0.002      -0.062      -0.015\n",
      "inccat_2           0.0755      0.017      4.409      0.000       0.042       0.109\n",
      "inccat_3           0.1560      0.020      7.658      0.000       0.116       0.196\n",
      "inccat_4           0.1373      0.022      6.222      0.000       0.094       0.181\n",
      "income             0.0039      0.000     21.652      0.000       0.004       0.004\n",
      "owncd_1            0.1003      0.027      3.741      0.000       0.048       0.153\n",
      "polview_6          0.0679      0.016      4.167      0.000       0.036       0.100\n",
      "reason_2           0.3130      0.030     10.570      0.000       0.255       0.371\n",
      "reason_9           0.0998      0.019      5.365      0.000       0.063       0.136\n",
      "retire_1          -0.0675      0.028     -2.394      0.017      -0.123      -0.012\n",
      "tenure            -0.0013      0.000     -3.420      0.001      -0.002      -0.001\n",
      "==============================================================================\n",
      "Omnibus:                       25.539   Durbin-Watson:                   2.030\n",
      "Prob(Omnibus):                  0.000   Jarque-Bera (JB):               25.946\n",
      "Skew:                           0.211   Prob(JB):                     2.32e-06\n",
      "Kurtosis:                       3.023   Cond. No.                     1.88e+04\n",
      "==============================================================================\n",
      "\n",
      "Warnings:\n",
      "[1] Standard Errors assume that the covariance matrix of the errors is correctly specified.\n",
      "[2] The condition number is large, 1.88e+04. This might indicate that there are\n",
      "strong multicollinearity or other numerical problems.\n"
     ]
    }
   ],
   "source": [
    "# Linear Regression Summary\n",
    "print(lm.summary())"
   ]
  },
  {
   "cell_type": "code",
   "execution_count": 53,
   "metadata": {},
   "outputs": [
    {
     "data": {
      "text/plain": [
       "Index(['const', 'age', 'agecat_3', 'agecat_4', 'agecat_5', 'agecat_6',\n",
       "       'card2_2', 'card2_3', 'card2_4', 'card2_5', 'card2items',\n",
       "       'card2tenure_26', 'card_2', 'card_3', 'card_4', 'card_5', 'carditems',\n",
       "       'cardtenure_39', 'ed', 'employ_16', 'employ_32', 'employ_34',\n",
       "       'equipten', 'gender_1', 'inccat_2', 'inccat_3', 'inccat_4', 'income',\n",
       "       'owncd_1', 'polview_6', 'reason_2', 'reason_9', 'retire_1', 'tenure'],\n",
       "      dtype='object')"
      ]
     },
     "execution_count": 53,
     "metadata": {},
     "output_type": "execute_result"
    }
   ],
   "source": [
    "train_X.columns"
   ]
  },
  {
   "cell_type": "code",
   "execution_count": 54,
   "metadata": {},
   "outputs": [
    {
     "name": "stderr",
     "output_type": "stream",
     "text": [
      "C:\\Users\\raghu\\Anaconda3\\lib\\site-packages\\statsmodels\\regression\\linear_model.py:1543: RuntimeWarning: divide by zero encountered in double_scalars\n",
      "  return 1 - self.ssr/self.centered_tss\n"
     ]
    },
    {
     "name": "stdout",
     "output_type": "stream",
     "text": [
      "    VIF Factor        features\n",
      "0     0.000000       Intercept\n",
      "1     0.000000           const\n",
      "2    22.600942             age\n",
      "3     2.876626        agecat_3\n",
      "4     8.234759        agecat_4\n",
      "5    18.768943        agecat_5\n",
      "6    30.632207        agecat_6\n",
      "7     2.077937         card2_2\n",
      "8     2.131673         card2_3\n",
      "9     2.272068         card2_4\n",
      "10    1.448575         card2_5\n",
      "11    1.060482      card2items\n",
      "12    1.053362  card2tenure_26\n",
      "13    2.059745          card_2\n",
      "14    2.042488          card_3\n",
      "15    2.316639          card_4\n",
      "16    1.319339          card_5\n",
      "17    1.038175       carditems\n",
      "18    1.108708   cardtenure_39\n",
      "19    1.385475              ed\n",
      "20    1.028039       employ_16\n",
      "21    1.021710       employ_32\n",
      "22    1.039226       employ_34\n",
      "23    1.306136        equipten\n",
      "24    1.019738        gender_1\n",
      "25    1.886849        inccat_2\n",
      "26    1.604392        inccat_3\n",
      "27    1.503752        inccat_4\n",
      "28    1.885021          income\n",
      "29    1.186701         owncd_1\n",
      "30    1.026666       polview_6\n",
      "31    1.465974        reason_2\n",
      "32    1.450051        reason_9\n",
      "33    2.844323        retire_1\n",
      "34    1.962726          tenure\n"
     ]
    }
   ],
   "source": [
    "# Calculating VIF for selected variables for Multicollinearity \n",
    "X = pd.concat([train_X,data['totalspent']], axis=1)\n",
    "features = \"+\".join(train_X.columns)\n",
    "X.head()\n",
    "a,b = dmatrices(formula_like='totalspent ~ '+ features, data = X, return_type='dataframe')\n",
    "\n",
    "vif = pd.DataFrame()\n",
    "vif[\"VIF Factor\"] = [variance_inflation_factor(b.values, i) for i in range(b.shape[1])]\n",
    "vif[\"features\"] = b.columns\n",
    "\n",
    "print(vif)"
   ]
  },
  {
   "cell_type": "code",
   "execution_count": 55,
   "metadata": {},
   "outputs": [
    {
     "data": {
      "text/html": [
       "<div>\n",
       "<style scoped>\n",
       "    .dataframe tbody tr th:only-of-type {\n",
       "        vertical-align: middle;\n",
       "    }\n",
       "\n",
       "    .dataframe tbody tr th {\n",
       "        vertical-align: top;\n",
       "    }\n",
       "\n",
       "    .dataframe thead th {\n",
       "        text-align: right;\n",
       "    }\n",
       "</style>\n",
       "<table border=\"1\" class=\"dataframe\">\n",
       "  <thead>\n",
       "    <tr style=\"text-align: right;\">\n",
       "      <th></th>\n",
       "      <th>VIF Factor</th>\n",
       "      <th>features</th>\n",
       "    </tr>\n",
       "  </thead>\n",
       "  <tbody>\n",
       "    <tr>\n",
       "      <th>6</th>\n",
       "      <td>30.632207</td>\n",
       "      <td>agecat_6</td>\n",
       "    </tr>\n",
       "    <tr>\n",
       "      <th>2</th>\n",
       "      <td>22.600942</td>\n",
       "      <td>age</td>\n",
       "    </tr>\n",
       "    <tr>\n",
       "      <th>5</th>\n",
       "      <td>18.768943</td>\n",
       "      <td>agecat_5</td>\n",
       "    </tr>\n",
       "    <tr>\n",
       "      <th>4</th>\n",
       "      <td>8.234759</td>\n",
       "      <td>agecat_4</td>\n",
       "    </tr>\n",
       "    <tr>\n",
       "      <th>3</th>\n",
       "      <td>2.876626</td>\n",
       "      <td>agecat_3</td>\n",
       "    </tr>\n",
       "    <tr>\n",
       "      <th>33</th>\n",
       "      <td>2.844323</td>\n",
       "      <td>retire_1</td>\n",
       "    </tr>\n",
       "    <tr>\n",
       "      <th>15</th>\n",
       "      <td>2.316639</td>\n",
       "      <td>card_4</td>\n",
       "    </tr>\n",
       "    <tr>\n",
       "      <th>9</th>\n",
       "      <td>2.272068</td>\n",
       "      <td>card2_4</td>\n",
       "    </tr>\n",
       "    <tr>\n",
       "      <th>8</th>\n",
       "      <td>2.131673</td>\n",
       "      <td>card2_3</td>\n",
       "    </tr>\n",
       "    <tr>\n",
       "      <th>7</th>\n",
       "      <td>2.077937</td>\n",
       "      <td>card2_2</td>\n",
       "    </tr>\n",
       "    <tr>\n",
       "      <th>13</th>\n",
       "      <td>2.059745</td>\n",
       "      <td>card_2</td>\n",
       "    </tr>\n",
       "    <tr>\n",
       "      <th>14</th>\n",
       "      <td>2.042488</td>\n",
       "      <td>card_3</td>\n",
       "    </tr>\n",
       "    <tr>\n",
       "      <th>34</th>\n",
       "      <td>1.962726</td>\n",
       "      <td>tenure</td>\n",
       "    </tr>\n",
       "    <tr>\n",
       "      <th>25</th>\n",
       "      <td>1.886849</td>\n",
       "      <td>inccat_2</td>\n",
       "    </tr>\n",
       "    <tr>\n",
       "      <th>28</th>\n",
       "      <td>1.885021</td>\n",
       "      <td>income</td>\n",
       "    </tr>\n",
       "    <tr>\n",
       "      <th>26</th>\n",
       "      <td>1.604392</td>\n",
       "      <td>inccat_3</td>\n",
       "    </tr>\n",
       "    <tr>\n",
       "      <th>27</th>\n",
       "      <td>1.503752</td>\n",
       "      <td>inccat_4</td>\n",
       "    </tr>\n",
       "    <tr>\n",
       "      <th>31</th>\n",
       "      <td>1.465974</td>\n",
       "      <td>reason_2</td>\n",
       "    </tr>\n",
       "    <tr>\n",
       "      <th>32</th>\n",
       "      <td>1.450051</td>\n",
       "      <td>reason_9</td>\n",
       "    </tr>\n",
       "    <tr>\n",
       "      <th>10</th>\n",
       "      <td>1.448575</td>\n",
       "      <td>card2_5</td>\n",
       "    </tr>\n",
       "    <tr>\n",
       "      <th>19</th>\n",
       "      <td>1.385475</td>\n",
       "      <td>ed</td>\n",
       "    </tr>\n",
       "    <tr>\n",
       "      <th>16</th>\n",
       "      <td>1.319339</td>\n",
       "      <td>card_5</td>\n",
       "    </tr>\n",
       "    <tr>\n",
       "      <th>23</th>\n",
       "      <td>1.306136</td>\n",
       "      <td>equipten</td>\n",
       "    </tr>\n",
       "    <tr>\n",
       "      <th>29</th>\n",
       "      <td>1.186701</td>\n",
       "      <td>owncd_1</td>\n",
       "    </tr>\n",
       "    <tr>\n",
       "      <th>18</th>\n",
       "      <td>1.108708</td>\n",
       "      <td>cardtenure_39</td>\n",
       "    </tr>\n",
       "    <tr>\n",
       "      <th>11</th>\n",
       "      <td>1.060482</td>\n",
       "      <td>card2items</td>\n",
       "    </tr>\n",
       "    <tr>\n",
       "      <th>12</th>\n",
       "      <td>1.053362</td>\n",
       "      <td>card2tenure_26</td>\n",
       "    </tr>\n",
       "    <tr>\n",
       "      <th>22</th>\n",
       "      <td>1.039226</td>\n",
       "      <td>employ_34</td>\n",
       "    </tr>\n",
       "    <tr>\n",
       "      <th>17</th>\n",
       "      <td>1.038175</td>\n",
       "      <td>carditems</td>\n",
       "    </tr>\n",
       "    <tr>\n",
       "      <th>20</th>\n",
       "      <td>1.028039</td>\n",
       "      <td>employ_16</td>\n",
       "    </tr>\n",
       "    <tr>\n",
       "      <th>30</th>\n",
       "      <td>1.026666</td>\n",
       "      <td>polview_6</td>\n",
       "    </tr>\n",
       "    <tr>\n",
       "      <th>21</th>\n",
       "      <td>1.021710</td>\n",
       "      <td>employ_32</td>\n",
       "    </tr>\n",
       "    <tr>\n",
       "      <th>24</th>\n",
       "      <td>1.019738</td>\n",
       "      <td>gender_1</td>\n",
       "    </tr>\n",
       "    <tr>\n",
       "      <th>1</th>\n",
       "      <td>0.000000</td>\n",
       "      <td>const</td>\n",
       "    </tr>\n",
       "    <tr>\n",
       "      <th>0</th>\n",
       "      <td>0.000000</td>\n",
       "      <td>Intercept</td>\n",
       "    </tr>\n",
       "  </tbody>\n",
       "</table>\n",
       "</div>"
      ],
      "text/plain": [
       "    VIF Factor        features\n",
       "6    30.632207        agecat_6\n",
       "2    22.600942             age\n",
       "5    18.768943        agecat_5\n",
       "4     8.234759        agecat_4\n",
       "3     2.876626        agecat_3\n",
       "33    2.844323        retire_1\n",
       "15    2.316639          card_4\n",
       "9     2.272068         card2_4\n",
       "8     2.131673         card2_3\n",
       "7     2.077937         card2_2\n",
       "13    2.059745          card_2\n",
       "14    2.042488          card_3\n",
       "34    1.962726          tenure\n",
       "25    1.886849        inccat_2\n",
       "28    1.885021          income\n",
       "26    1.604392        inccat_3\n",
       "27    1.503752        inccat_4\n",
       "31    1.465974        reason_2\n",
       "32    1.450051        reason_9\n",
       "10    1.448575         card2_5\n",
       "19    1.385475              ed\n",
       "16    1.319339          card_5\n",
       "23    1.306136        equipten\n",
       "29    1.186701         owncd_1\n",
       "18    1.108708   cardtenure_39\n",
       "11    1.060482      card2items\n",
       "12    1.053362  card2tenure_26\n",
       "22    1.039226       employ_34\n",
       "17    1.038175       carditems\n",
       "20    1.028039       employ_16\n",
       "30    1.026666       polview_6\n",
       "21    1.021710       employ_32\n",
       "24    1.019738        gender_1\n",
       "1     0.000000           const\n",
       "0     0.000000       Intercept"
      ]
     },
     "execution_count": 55,
     "metadata": {},
     "output_type": "execute_result"
    }
   ],
   "source": [
    "vif.sort_values('VIF Factor',ascending=False)"
   ]
  },
  {
   "cell_type": "code",
   "execution_count": 56,
   "metadata": {},
   "outputs": [],
   "source": [
    "train_X.drop('agecat_6',axis=1,inplace=True)"
   ]
  },
  {
   "cell_type": "code",
   "execution_count": 57,
   "metadata": {},
   "outputs": [
    {
     "name": "stderr",
     "output_type": "stream",
     "text": [
      "C:\\Users\\raghu\\Anaconda3\\lib\\site-packages\\statsmodels\\regression\\linear_model.py:1543: RuntimeWarning: divide by zero encountered in double_scalars\n",
      "  return 1 - self.ssr/self.centered_tss\n"
     ]
    },
    {
     "name": "stdout",
     "output_type": "stream",
     "text": [
      "    VIF Factor        features\n",
      "0     0.000000       Intercept\n",
      "1     0.000000           const\n",
      "2     3.232639             age\n",
      "3     1.775659        agecat_3\n",
      "4     1.813702        agecat_4\n",
      "5     1.766884        agecat_5\n",
      "6     2.077896         card2_2\n",
      "7     2.131626         card2_3\n",
      "8     2.271948         card2_4\n",
      "9     1.448493         card2_5\n",
      "10    1.060454      card2items\n",
      "11    1.053286  card2tenure_26\n",
      "12    2.059413          card_2\n",
      "13    2.042483          card_3\n",
      "14    2.316367          card_4\n",
      "15    1.318816          card_5\n",
      "16    1.038108       carditems\n",
      "17    1.107788   cardtenure_39\n",
      "18    1.385423              ed\n",
      "19    1.027683       employ_16\n",
      "20    1.021566       employ_32\n",
      "21    1.039195       employ_34\n",
      "22    1.306099        equipten\n",
      "23    1.019738        gender_1\n",
      "24    1.879636        inccat_2\n",
      "25    1.601136        inccat_3\n",
      "26    1.496934        inccat_4\n",
      "27    1.883705          income\n",
      "28    1.186624         owncd_1\n",
      "29    1.026650       polview_6\n",
      "30    1.465957        reason_2\n",
      "31    1.449890        reason_9\n",
      "32    2.842130        retire_1\n",
      "33    1.962726          tenure\n"
     ]
    }
   ],
   "source": [
    "X = pd.concat([train_X,data['totalspent']], axis=1)\n",
    "features = \"+\".join(train_X.columns)\n",
    "X.head()\n",
    "a,b = dmatrices(formula_like='totalspent ~ '+ features, data = X, return_type='dataframe')\n",
    "\n",
    "vif = pd.DataFrame()\n",
    "vif[\"VIF Factor\"] = [variance_inflation_factor(b.values, i) for i in range(b.shape[1])]\n",
    "vif[\"features\"] = b.columns\n",
    "\n",
    "print(vif)"
   ]
  },
  {
   "cell_type": "code",
   "execution_count": 58,
   "metadata": {},
   "outputs": [
    {
     "data": {
      "text/html": [
       "<div>\n",
       "<style scoped>\n",
       "    .dataframe tbody tr th:only-of-type {\n",
       "        vertical-align: middle;\n",
       "    }\n",
       "\n",
       "    .dataframe tbody tr th {\n",
       "        vertical-align: top;\n",
       "    }\n",
       "\n",
       "    .dataframe thead th {\n",
       "        text-align: right;\n",
       "    }\n",
       "</style>\n",
       "<table border=\"1\" class=\"dataframe\">\n",
       "  <thead>\n",
       "    <tr style=\"text-align: right;\">\n",
       "      <th></th>\n",
       "      <th>VIF Factor</th>\n",
       "      <th>features</th>\n",
       "    </tr>\n",
       "  </thead>\n",
       "  <tbody>\n",
       "    <tr>\n",
       "      <th>2</th>\n",
       "      <td>3.232639</td>\n",
       "      <td>age</td>\n",
       "    </tr>\n",
       "    <tr>\n",
       "      <th>32</th>\n",
       "      <td>2.842130</td>\n",
       "      <td>retire_1</td>\n",
       "    </tr>\n",
       "    <tr>\n",
       "      <th>14</th>\n",
       "      <td>2.316367</td>\n",
       "      <td>card_4</td>\n",
       "    </tr>\n",
       "    <tr>\n",
       "      <th>8</th>\n",
       "      <td>2.271948</td>\n",
       "      <td>card2_4</td>\n",
       "    </tr>\n",
       "    <tr>\n",
       "      <th>7</th>\n",
       "      <td>2.131626</td>\n",
       "      <td>card2_3</td>\n",
       "    </tr>\n",
       "    <tr>\n",
       "      <th>6</th>\n",
       "      <td>2.077896</td>\n",
       "      <td>card2_2</td>\n",
       "    </tr>\n",
       "    <tr>\n",
       "      <th>12</th>\n",
       "      <td>2.059413</td>\n",
       "      <td>card_2</td>\n",
       "    </tr>\n",
       "    <tr>\n",
       "      <th>13</th>\n",
       "      <td>2.042483</td>\n",
       "      <td>card_3</td>\n",
       "    </tr>\n",
       "    <tr>\n",
       "      <th>33</th>\n",
       "      <td>1.962726</td>\n",
       "      <td>tenure</td>\n",
       "    </tr>\n",
       "    <tr>\n",
       "      <th>27</th>\n",
       "      <td>1.883705</td>\n",
       "      <td>income</td>\n",
       "    </tr>\n",
       "    <tr>\n",
       "      <th>24</th>\n",
       "      <td>1.879636</td>\n",
       "      <td>inccat_2</td>\n",
       "    </tr>\n",
       "    <tr>\n",
       "      <th>4</th>\n",
       "      <td>1.813702</td>\n",
       "      <td>agecat_4</td>\n",
       "    </tr>\n",
       "    <tr>\n",
       "      <th>3</th>\n",
       "      <td>1.775659</td>\n",
       "      <td>agecat_3</td>\n",
       "    </tr>\n",
       "    <tr>\n",
       "      <th>5</th>\n",
       "      <td>1.766884</td>\n",
       "      <td>agecat_5</td>\n",
       "    </tr>\n",
       "    <tr>\n",
       "      <th>25</th>\n",
       "      <td>1.601136</td>\n",
       "      <td>inccat_3</td>\n",
       "    </tr>\n",
       "    <tr>\n",
       "      <th>26</th>\n",
       "      <td>1.496934</td>\n",
       "      <td>inccat_4</td>\n",
       "    </tr>\n",
       "    <tr>\n",
       "      <th>30</th>\n",
       "      <td>1.465957</td>\n",
       "      <td>reason_2</td>\n",
       "    </tr>\n",
       "    <tr>\n",
       "      <th>31</th>\n",
       "      <td>1.449890</td>\n",
       "      <td>reason_9</td>\n",
       "    </tr>\n",
       "    <tr>\n",
       "      <th>9</th>\n",
       "      <td>1.448493</td>\n",
       "      <td>card2_5</td>\n",
       "    </tr>\n",
       "    <tr>\n",
       "      <th>18</th>\n",
       "      <td>1.385423</td>\n",
       "      <td>ed</td>\n",
       "    </tr>\n",
       "    <tr>\n",
       "      <th>15</th>\n",
       "      <td>1.318816</td>\n",
       "      <td>card_5</td>\n",
       "    </tr>\n",
       "    <tr>\n",
       "      <th>22</th>\n",
       "      <td>1.306099</td>\n",
       "      <td>equipten</td>\n",
       "    </tr>\n",
       "    <tr>\n",
       "      <th>28</th>\n",
       "      <td>1.186624</td>\n",
       "      <td>owncd_1</td>\n",
       "    </tr>\n",
       "    <tr>\n",
       "      <th>17</th>\n",
       "      <td>1.107788</td>\n",
       "      <td>cardtenure_39</td>\n",
       "    </tr>\n",
       "    <tr>\n",
       "      <th>10</th>\n",
       "      <td>1.060454</td>\n",
       "      <td>card2items</td>\n",
       "    </tr>\n",
       "    <tr>\n",
       "      <th>11</th>\n",
       "      <td>1.053286</td>\n",
       "      <td>card2tenure_26</td>\n",
       "    </tr>\n",
       "    <tr>\n",
       "      <th>21</th>\n",
       "      <td>1.039195</td>\n",
       "      <td>employ_34</td>\n",
       "    </tr>\n",
       "    <tr>\n",
       "      <th>16</th>\n",
       "      <td>1.038108</td>\n",
       "      <td>carditems</td>\n",
       "    </tr>\n",
       "    <tr>\n",
       "      <th>19</th>\n",
       "      <td>1.027683</td>\n",
       "      <td>employ_16</td>\n",
       "    </tr>\n",
       "    <tr>\n",
       "      <th>29</th>\n",
       "      <td>1.026650</td>\n",
       "      <td>polview_6</td>\n",
       "    </tr>\n",
       "    <tr>\n",
       "      <th>20</th>\n",
       "      <td>1.021566</td>\n",
       "      <td>employ_32</td>\n",
       "    </tr>\n",
       "    <tr>\n",
       "      <th>23</th>\n",
       "      <td>1.019738</td>\n",
       "      <td>gender_1</td>\n",
       "    </tr>\n",
       "    <tr>\n",
       "      <th>1</th>\n",
       "      <td>0.000000</td>\n",
       "      <td>const</td>\n",
       "    </tr>\n",
       "    <tr>\n",
       "      <th>0</th>\n",
       "      <td>0.000000</td>\n",
       "      <td>Intercept</td>\n",
       "    </tr>\n",
       "  </tbody>\n",
       "</table>\n",
       "</div>"
      ],
      "text/plain": [
       "    VIF Factor        features\n",
       "2     3.232639             age\n",
       "32    2.842130        retire_1\n",
       "14    2.316367          card_4\n",
       "8     2.271948         card2_4\n",
       "7     2.131626         card2_3\n",
       "6     2.077896         card2_2\n",
       "12    2.059413          card_2\n",
       "13    2.042483          card_3\n",
       "33    1.962726          tenure\n",
       "27    1.883705          income\n",
       "24    1.879636        inccat_2\n",
       "4     1.813702        agecat_4\n",
       "3     1.775659        agecat_3\n",
       "5     1.766884        agecat_5\n",
       "25    1.601136        inccat_3\n",
       "26    1.496934        inccat_4\n",
       "30    1.465957        reason_2\n",
       "31    1.449890        reason_9\n",
       "9     1.448493         card2_5\n",
       "18    1.385423              ed\n",
       "15    1.318816          card_5\n",
       "22    1.306099        equipten\n",
       "28    1.186624         owncd_1\n",
       "17    1.107788   cardtenure_39\n",
       "10    1.060454      card2items\n",
       "11    1.053286  card2tenure_26\n",
       "21    1.039195       employ_34\n",
       "16    1.038108       carditems\n",
       "19    1.027683       employ_16\n",
       "29    1.026650       polview_6\n",
       "20    1.021566       employ_32\n",
       "23    1.019738        gender_1\n",
       "1     0.000000           const\n",
       "0     0.000000       Intercept"
      ]
     },
     "execution_count": 58,
     "metadata": {},
     "output_type": "execute_result"
    }
   ],
   "source": [
    "vif.sort_values('VIF Factor',ascending=False)"
   ]
  },
  {
   "cell_type": "markdown",
   "metadata": {},
   "source": [
    "### f-regression Works but not working in this case Leave this part and or find error in this part or ask for help from Sir "
   ]
  },
  {
   "cell_type": "code",
   "execution_count": null,
   "metadata": {},
   "outputs": [],
   "source": []
  },
  {
   "cell_type": "code",
   "execution_count": 59,
   "metadata": {},
   "outputs": [],
   "source": [
    "# Adding Train Data Column to a List \n",
    "train_var_list_f = []\n",
    "for variable in train_X.columns:\n",
    "        train_var_list_f.append(variable)"
   ]
  },
  {
   "cell_type": "code",
   "execution_count": 60,
   "metadata": {},
   "outputs": [
    {
     "name": "stderr",
     "output_type": "stream",
     "text": [
      "C:\\Users\\raghu\\Anaconda3\\lib\\site-packages\\sklearn\\feature_selection\\univariate_selection.py:298: RuntimeWarning: divide by zero encountered in true_divide\n",
      "  corr /= X_norms\n",
      "C:\\Users\\raghu\\Anaconda3\\lib\\site-packages\\sklearn\\feature_selection\\univariate_selection.py:303: RuntimeWarning: invalid value encountered in true_divide\n",
      "  F = corr ** 2 / (1 - corr ** 2) * degrees_of_freedom\n",
      "C:\\Users\\raghu\\Anaconda3\\lib\\site-packages\\scipy\\stats\\_distn_infrastructure.py:879: RuntimeWarning: invalid value encountered in greater\n",
      "  return (self.a < x) & (x < self.b)\n",
      "C:\\Users\\raghu\\Anaconda3\\lib\\site-packages\\scipy\\stats\\_distn_infrastructure.py:879: RuntimeWarning: invalid value encountered in less\n",
      "  return (self.a < x) & (x < self.b)\n",
      "C:\\Users\\raghu\\Anaconda3\\lib\\site-packages\\scipy\\stats\\_distn_infrastructure.py:1821: RuntimeWarning: invalid value encountered in less_equal\n",
      "  cond2 = cond0 & (x <= self.a)\n"
     ]
    }
   ],
   "source": [
    "# Applying f_regression on Traing Data \n",
    "from sklearn.feature_selection import f_regression\n",
    "F_values, p_values  = f_regression( train_X, train_y)"
   ]
  },
  {
   "cell_type": "code",
   "execution_count": 61,
   "metadata": {},
   "outputs": [],
   "source": [
    "# Adding p-values and features to a New DataFrame \n",
    "f_regression_var=pd.DataFrame( )\n",
    "f_regression_var[\"features\"] = train_X.columns\n",
    "f_regression_var[\"f_regression_value\"] = [ p_values[i] for i in range(len(p_values))]\n"
   ]
  },
  {
   "cell_type": "code",
   "execution_count": 62,
   "metadata": {},
   "outputs": [],
   "source": [
    "# Sorting p_values in descending order\n",
    "f_regression_var.sort_values('f_regression_value',ascending=False,inplace=True)"
   ]
  },
  {
   "cell_type": "code",
   "execution_count": 178,
   "metadata": {},
   "outputs": [
    {
     "data": {
      "text/html": [
       "<div>\n",
       "<style scoped>\n",
       "    .dataframe tbody tr th:only-of-type {\n",
       "        vertical-align: middle;\n",
       "    }\n",
       "\n",
       "    .dataframe tbody tr th {\n",
       "        vertical-align: top;\n",
       "    }\n",
       "\n",
       "    .dataframe thead th {\n",
       "        text-align: right;\n",
       "    }\n",
       "</style>\n",
       "<table border=\"1\" class=\"dataframe\">\n",
       "  <thead>\n",
       "    <tr style=\"text-align: right;\">\n",
       "      <th></th>\n",
       "      <th>features</th>\n",
       "      <th>f_regression_value</th>\n",
       "    </tr>\n",
       "  </thead>\n",
       "  <tbody>\n",
       "    <tr>\n",
       "      <th>1</th>\n",
       "      <td>age</td>\n",
       "      <td>8.374771e-01</td>\n",
       "    </tr>\n",
       "    <tr>\n",
       "      <th>20</th>\n",
       "      <td>employ_34</td>\n",
       "      <td>6.766474e-01</td>\n",
       "    </tr>\n",
       "    <tr>\n",
       "      <th>16</th>\n",
       "      <td>cardtenure_39</td>\n",
       "      <td>4.304357e-01</td>\n",
       "    </tr>\n",
       "    <tr>\n",
       "      <th>2</th>\n",
       "      <td>agecat_3</td>\n",
       "      <td>2.516575e-01</td>\n",
       "    </tr>\n",
       "    <tr>\n",
       "      <th>30</th>\n",
       "      <td>reason_9</td>\n",
       "      <td>4.830874e-02</td>\n",
       "    </tr>\n",
       "    <tr>\n",
       "      <th>19</th>\n",
       "      <td>employ_32</td>\n",
       "      <td>2.535261e-02</td>\n",
       "    </tr>\n",
       "    <tr>\n",
       "      <th>18</th>\n",
       "      <td>employ_16</td>\n",
       "      <td>1.869337e-02</td>\n",
       "    </tr>\n",
       "    <tr>\n",
       "      <th>10</th>\n",
       "      <td>card2tenure_26</td>\n",
       "      <td>9.131997e-03</td>\n",
       "    </tr>\n",
       "    <tr>\n",
       "      <th>32</th>\n",
       "      <td>tenure</td>\n",
       "      <td>8.193962e-03</td>\n",
       "    </tr>\n",
       "    <tr>\n",
       "      <th>28</th>\n",
       "      <td>polview_6</td>\n",
       "      <td>4.306004e-03</td>\n",
       "    </tr>\n",
       "    <tr>\n",
       "      <th>8</th>\n",
       "      <td>card2_5</td>\n",
       "      <td>3.527893e-03</td>\n",
       "    </tr>\n",
       "    <tr>\n",
       "      <th>14</th>\n",
       "      <td>card_5</td>\n",
       "      <td>1.715006e-03</td>\n",
       "    </tr>\n",
       "    <tr>\n",
       "      <th>23</th>\n",
       "      <td>inccat_2</td>\n",
       "      <td>9.257250e-04</td>\n",
       "    </tr>\n",
       "    <tr>\n",
       "      <th>7</th>\n",
       "      <td>card2_4</td>\n",
       "      <td>9.593793e-05</td>\n",
       "    </tr>\n",
       "    <tr>\n",
       "      <th>22</th>\n",
       "      <td>gender_1</td>\n",
       "      <td>7.518652e-05</td>\n",
       "    </tr>\n",
       "    <tr>\n",
       "      <th>3</th>\n",
       "      <td>agecat_4</td>\n",
       "      <td>2.491283e-05</td>\n",
       "    </tr>\n",
       "    <tr>\n",
       "      <th>6</th>\n",
       "      <td>card2_3</td>\n",
       "      <td>3.472013e-06</td>\n",
       "    </tr>\n",
       "    <tr>\n",
       "      <th>13</th>\n",
       "      <td>card_4</td>\n",
       "      <td>1.558226e-06</td>\n",
       "    </tr>\n",
       "    <tr>\n",
       "      <th>5</th>\n",
       "      <td>card2_2</td>\n",
       "      <td>2.920898e-07</td>\n",
       "    </tr>\n",
       "    <tr>\n",
       "      <th>21</th>\n",
       "      <td>equipten</td>\n",
       "      <td>6.348440e-08</td>\n",
       "    </tr>\n",
       "    <tr>\n",
       "      <th>17</th>\n",
       "      <td>ed</td>\n",
       "      <td>4.123980e-08</td>\n",
       "    </tr>\n",
       "    <tr>\n",
       "      <th>12</th>\n",
       "      <td>card_3</td>\n",
       "      <td>3.477433e-10</td>\n",
       "    </tr>\n",
       "    <tr>\n",
       "      <th>24</th>\n",
       "      <td>inccat_3</td>\n",
       "      <td>2.588782e-10</td>\n",
       "    </tr>\n",
       "    <tr>\n",
       "      <th>11</th>\n",
       "      <td>card_2</td>\n",
       "      <td>1.572598e-10</td>\n",
       "    </tr>\n",
       "    <tr>\n",
       "      <th>4</th>\n",
       "      <td>agecat_5</td>\n",
       "      <td>2.073807e-13</td>\n",
       "    </tr>\n",
       "    <tr>\n",
       "      <th>29</th>\n",
       "      <td>reason_2</td>\n",
       "      <td>1.900958e-19</td>\n",
       "    </tr>\n",
       "    <tr>\n",
       "      <th>27</th>\n",
       "      <td>owncd_1</td>\n",
       "      <td>5.308610e-20</td>\n",
       "    </tr>\n",
       "    <tr>\n",
       "      <th>25</th>\n",
       "      <td>inccat_4</td>\n",
       "      <td>1.347365e-25</td>\n",
       "    </tr>\n",
       "    <tr>\n",
       "      <th>31</th>\n",
       "      <td>retire_1</td>\n",
       "      <td>1.263009e-39</td>\n",
       "    </tr>\n",
       "    <tr>\n",
       "      <th>26</th>\n",
       "      <td>income</td>\n",
       "      <td>1.007885e-113</td>\n",
       "    </tr>\n",
       "    <tr>\n",
       "      <th>15</th>\n",
       "      <td>carditems</td>\n",
       "      <td>2.565999e-244</td>\n",
       "    </tr>\n",
       "    <tr>\n",
       "      <th>9</th>\n",
       "      <td>card2items</td>\n",
       "      <td>7.611097e-251</td>\n",
       "    </tr>\n",
       "    <tr>\n",
       "      <th>0</th>\n",
       "      <td>const</td>\n",
       "      <td>NaN</td>\n",
       "    </tr>\n",
       "  </tbody>\n",
       "</table>\n",
       "</div>"
      ],
      "text/plain": [
       "          features  f_regression_value\n",
       "1              age        8.374771e-01\n",
       "20       employ_34        6.766474e-01\n",
       "16   cardtenure_39        4.304357e-01\n",
       "2         agecat_3        2.516575e-01\n",
       "30        reason_9        4.830874e-02\n",
       "19       employ_32        2.535261e-02\n",
       "18       employ_16        1.869337e-02\n",
       "10  card2tenure_26        9.131997e-03\n",
       "32          tenure        8.193962e-03\n",
       "28       polview_6        4.306004e-03\n",
       "8          card2_5        3.527893e-03\n",
       "14          card_5        1.715006e-03\n",
       "23        inccat_2        9.257250e-04\n",
       "7          card2_4        9.593793e-05\n",
       "22        gender_1        7.518652e-05\n",
       "3         agecat_4        2.491283e-05\n",
       "6          card2_3        3.472013e-06\n",
       "13          card_4        1.558226e-06\n",
       "5          card2_2        2.920898e-07\n",
       "21        equipten        6.348440e-08\n",
       "17              ed        4.123980e-08\n",
       "12          card_3        3.477433e-10\n",
       "24        inccat_3        2.588782e-10\n",
       "11          card_2        1.572598e-10\n",
       "4         agecat_5        2.073807e-13\n",
       "29        reason_2        1.900958e-19\n",
       "27         owncd_1        5.308610e-20\n",
       "25        inccat_4        1.347365e-25\n",
       "31        retire_1        1.263009e-39\n",
       "26          income       1.007885e-113\n",
       "15       carditems       2.565999e-244\n",
       "9       card2items       7.611097e-251\n",
       "0            const                 NaN"
      ]
     },
     "execution_count": 178,
     "metadata": {},
     "output_type": "execute_result"
    }
   ],
   "source": [
    "f_regression_var"
   ]
  },
  {
   "cell_type": "code",
   "execution_count": 179,
   "metadata": {},
   "outputs": [],
   "source": [
    "# Addding the Top 17 Features to a New DataFrame i.e Subsetting DataFrame \n",
    "f_regression_var_select=f_regression_var.head(17)"
   ]
  },
  {
   "cell_type": "code",
   "execution_count": 180,
   "metadata": {},
   "outputs": [
    {
     "data": {
      "text/html": [
       "<div>\n",
       "<style scoped>\n",
       "    .dataframe tbody tr th:only-of-type {\n",
       "        vertical-align: middle;\n",
       "    }\n",
       "\n",
       "    .dataframe tbody tr th {\n",
       "        vertical-align: top;\n",
       "    }\n",
       "\n",
       "    .dataframe thead th {\n",
       "        text-align: right;\n",
       "    }\n",
       "</style>\n",
       "<table border=\"1\" class=\"dataframe\">\n",
       "  <thead>\n",
       "    <tr style=\"text-align: right;\">\n",
       "      <th></th>\n",
       "      <th>features</th>\n",
       "      <th>f_regression_value</th>\n",
       "    </tr>\n",
       "  </thead>\n",
       "  <tbody>\n",
       "    <tr>\n",
       "      <th>1</th>\n",
       "      <td>age</td>\n",
       "      <td>0.837477</td>\n",
       "    </tr>\n",
       "    <tr>\n",
       "      <th>20</th>\n",
       "      <td>employ_34</td>\n",
       "      <td>0.676647</td>\n",
       "    </tr>\n",
       "    <tr>\n",
       "      <th>16</th>\n",
       "      <td>cardtenure_39</td>\n",
       "      <td>0.430436</td>\n",
       "    </tr>\n",
       "    <tr>\n",
       "      <th>2</th>\n",
       "      <td>agecat_3</td>\n",
       "      <td>0.251658</td>\n",
       "    </tr>\n",
       "    <tr>\n",
       "      <th>30</th>\n",
       "      <td>reason_9</td>\n",
       "      <td>0.048309</td>\n",
       "    </tr>\n",
       "    <tr>\n",
       "      <th>19</th>\n",
       "      <td>employ_32</td>\n",
       "      <td>0.025353</td>\n",
       "    </tr>\n",
       "    <tr>\n",
       "      <th>18</th>\n",
       "      <td>employ_16</td>\n",
       "      <td>0.018693</td>\n",
       "    </tr>\n",
       "    <tr>\n",
       "      <th>10</th>\n",
       "      <td>card2tenure_26</td>\n",
       "      <td>0.009132</td>\n",
       "    </tr>\n",
       "    <tr>\n",
       "      <th>32</th>\n",
       "      <td>tenure</td>\n",
       "      <td>0.008194</td>\n",
       "    </tr>\n",
       "    <tr>\n",
       "      <th>28</th>\n",
       "      <td>polview_6</td>\n",
       "      <td>0.004306</td>\n",
       "    </tr>\n",
       "    <tr>\n",
       "      <th>8</th>\n",
       "      <td>card2_5</td>\n",
       "      <td>0.003528</td>\n",
       "    </tr>\n",
       "    <tr>\n",
       "      <th>14</th>\n",
       "      <td>card_5</td>\n",
       "      <td>0.001715</td>\n",
       "    </tr>\n",
       "    <tr>\n",
       "      <th>23</th>\n",
       "      <td>inccat_2</td>\n",
       "      <td>0.000926</td>\n",
       "    </tr>\n",
       "    <tr>\n",
       "      <th>7</th>\n",
       "      <td>card2_4</td>\n",
       "      <td>0.000096</td>\n",
       "    </tr>\n",
       "    <tr>\n",
       "      <th>22</th>\n",
       "      <td>gender_1</td>\n",
       "      <td>0.000075</td>\n",
       "    </tr>\n",
       "    <tr>\n",
       "      <th>3</th>\n",
       "      <td>agecat_4</td>\n",
       "      <td>0.000025</td>\n",
       "    </tr>\n",
       "    <tr>\n",
       "      <th>6</th>\n",
       "      <td>card2_3</td>\n",
       "      <td>0.000003</td>\n",
       "    </tr>\n",
       "  </tbody>\n",
       "</table>\n",
       "</div>"
      ],
      "text/plain": [
       "          features  f_regression_value\n",
       "1              age            0.837477\n",
       "20       employ_34            0.676647\n",
       "16   cardtenure_39            0.430436\n",
       "2         agecat_3            0.251658\n",
       "30        reason_9            0.048309\n",
       "19       employ_32            0.025353\n",
       "18       employ_16            0.018693\n",
       "10  card2tenure_26            0.009132\n",
       "32          tenure            0.008194\n",
       "28       polview_6            0.004306\n",
       "8          card2_5            0.003528\n",
       "14          card_5            0.001715\n",
       "23        inccat_2            0.000926\n",
       "7          card2_4            0.000096\n",
       "22        gender_1            0.000075\n",
       "3         agecat_4            0.000025\n",
       "6          card2_3            0.000003"
      ]
     },
     "execution_count": 180,
     "metadata": {},
     "output_type": "execute_result"
    }
   ],
   "source": [
    "f_regression_var_select"
   ]
  },
  {
   "cell_type": "code",
   "execution_count": 181,
   "metadata": {},
   "outputs": [],
   "source": [
    "# Adding the Name of the Features Selected for further use in a List  \n",
    "select_var_f=[]\n",
    "for variable in f_regression_var_select.features.values:\n",
    "    select_var_f.append(variable)\n",
    "    \n",
    "select_var_f.append('totalspent')"
   ]
  },
  {
   "cell_type": "code",
   "execution_count": 182,
   "metadata": {},
   "outputs": [
    {
     "data": {
      "text/plain": [
       "['age',\n",
       " 'employ_34',\n",
       " 'cardtenure_39',\n",
       " 'agecat_3',\n",
       " 'reason_9',\n",
       " 'employ_32',\n",
       " 'employ_16',\n",
       " 'card2tenure_26',\n",
       " 'tenure',\n",
       " 'polview_6',\n",
       " 'card2_5',\n",
       " 'card_5',\n",
       " 'inccat_2',\n",
       " 'card2_4',\n",
       " 'gender_1',\n",
       " 'agecat_4',\n",
       " 'card2_3',\n",
       " 'totalspent']"
      ]
     },
     "execution_count": 182,
     "metadata": {},
     "output_type": "execute_result"
    }
   ],
   "source": [
    "select_var_f"
   ]
  },
  {
   "cell_type": "markdown",
   "metadata": {},
   "source": [
    " ### Using the variables from o"
   ]
  },
  {
   "cell_type": "code",
   "execution_count": 183,
   "metadata": {},
   "outputs": [],
   "source": [
    "# Subsetting the Data of Selected VAriables/Features to A New DataFrame \n",
    "data_select_f=data[select_var_f]"
   ]
  },
  {
   "cell_type": "code",
   "execution_count": 184,
   "metadata": {
    "scrolled": true
   },
   "outputs": [
    {
     "data": {
      "text/html": [
       "<div>\n",
       "<style scoped>\n",
       "    .dataframe tbody tr th:only-of-type {\n",
       "        vertical-align: middle;\n",
       "    }\n",
       "\n",
       "    .dataframe tbody tr th {\n",
       "        vertical-align: top;\n",
       "    }\n",
       "\n",
       "    .dataframe thead th {\n",
       "        text-align: right;\n",
       "    }\n",
       "</style>\n",
       "<table border=\"1\" class=\"dataframe\">\n",
       "  <thead>\n",
       "    <tr style=\"text-align: right;\">\n",
       "      <th></th>\n",
       "      <th>age</th>\n",
       "      <th>employ_34</th>\n",
       "      <th>cardtenure_39</th>\n",
       "      <th>agecat_3</th>\n",
       "      <th>reason_9</th>\n",
       "      <th>employ_32</th>\n",
       "      <th>employ_16</th>\n",
       "      <th>card2tenure_26</th>\n",
       "      <th>tenure</th>\n",
       "      <th>polview_6</th>\n",
       "      <th>card2_5</th>\n",
       "      <th>card_5</th>\n",
       "      <th>inccat_2</th>\n",
       "      <th>card2_4</th>\n",
       "      <th>gender_1</th>\n",
       "      <th>agecat_4</th>\n",
       "      <th>card2_3</th>\n",
       "      <th>totalspent</th>\n",
       "    </tr>\n",
       "  </thead>\n",
       "  <tbody>\n",
       "    <tr>\n",
       "      <th>0</th>\n",
       "      <td>20.0</td>\n",
       "      <td>0</td>\n",
       "      <td>0</td>\n",
       "      <td>0</td>\n",
       "      <td>1</td>\n",
       "      <td>0</td>\n",
       "      <td>0</td>\n",
       "      <td>0</td>\n",
       "      <td>5.0</td>\n",
       "      <td>1</td>\n",
       "      <td>1</td>\n",
       "      <td>0</td>\n",
       "      <td>1</td>\n",
       "      <td>0</td>\n",
       "      <td>1</td>\n",
       "      <td>0</td>\n",
       "      <td>0</td>\n",
       "      <td>5.013697</td>\n",
       "    </tr>\n",
       "    <tr>\n",
       "      <th>1</th>\n",
       "      <td>22.0</td>\n",
       "      <td>0</td>\n",
       "      <td>0</td>\n",
       "      <td>0</td>\n",
       "      <td>1</td>\n",
       "      <td>0</td>\n",
       "      <td>0</td>\n",
       "      <td>0</td>\n",
       "      <td>39.0</td>\n",
       "      <td>0</td>\n",
       "      <td>0</td>\n",
       "      <td>0</td>\n",
       "      <td>0</td>\n",
       "      <td>1</td>\n",
       "      <td>0</td>\n",
       "      <td>0</td>\n",
       "      <td>0</td>\n",
       "      <td>4.363608</td>\n",
       "    </tr>\n",
       "    <tr>\n",
       "      <th>2</th>\n",
       "      <td>67.0</td>\n",
       "      <td>0</td>\n",
       "      <td>0</td>\n",
       "      <td>0</td>\n",
       "      <td>0</td>\n",
       "      <td>0</td>\n",
       "      <td>1</td>\n",
       "      <td>0</td>\n",
       "      <td>65.0</td>\n",
       "      <td>0</td>\n",
       "      <td>0</td>\n",
       "      <td>0</td>\n",
       "      <td>1</td>\n",
       "      <td>1</td>\n",
       "      <td>1</td>\n",
       "      <td>0</td>\n",
       "      <td>0</td>\n",
       "      <td>5.888795</td>\n",
       "    </tr>\n",
       "    <tr>\n",
       "      <th>3</th>\n",
       "      <td>23.0</td>\n",
       "      <td>0</td>\n",
       "      <td>0</td>\n",
       "      <td>0</td>\n",
       "      <td>1</td>\n",
       "      <td>0</td>\n",
       "      <td>0</td>\n",
       "      <td>0</td>\n",
       "      <td>36.0</td>\n",
       "      <td>0</td>\n",
       "      <td>0</td>\n",
       "      <td>0</td>\n",
       "      <td>0</td>\n",
       "      <td>0</td>\n",
       "      <td>0</td>\n",
       "      <td>0</td>\n",
       "      <td>1</td>\n",
       "      <td>5.887242</td>\n",
       "    </tr>\n",
       "    <tr>\n",
       "      <th>4</th>\n",
       "      <td>26.0</td>\n",
       "      <td>0</td>\n",
       "      <td>0</td>\n",
       "      <td>1</td>\n",
       "      <td>1</td>\n",
       "      <td>0</td>\n",
       "      <td>0</td>\n",
       "      <td>0</td>\n",
       "      <td>21.0</td>\n",
       "      <td>0</td>\n",
       "      <td>0</td>\n",
       "      <td>0</td>\n",
       "      <td>0</td>\n",
       "      <td>0</td>\n",
       "      <td>0</td>\n",
       "      <td>0</td>\n",
       "      <td>0</td>\n",
       "      <td>6.232114</td>\n",
       "    </tr>\n",
       "  </tbody>\n",
       "</table>\n",
       "</div>"
      ],
      "text/plain": [
       "    age  employ_34  cardtenure_39  agecat_3  reason_9  employ_32  employ_16  \\\n",
       "0  20.0          0              0         0         1          0          0   \n",
       "1  22.0          0              0         0         1          0          0   \n",
       "2  67.0          0              0         0         0          0          1   \n",
       "3  23.0          0              0         0         1          0          0   \n",
       "4  26.0          0              0         1         1          0          0   \n",
       "\n",
       "   card2tenure_26  tenure  polview_6  card2_5  card_5  inccat_2  card2_4  \\\n",
       "0               0     5.0          1        1       0         1        0   \n",
       "1               0    39.0          0        0       0         0        1   \n",
       "2               0    65.0          0        0       0         1        1   \n",
       "3               0    36.0          0        0       0         0        0   \n",
       "4               0    21.0          0        0       0         0        0   \n",
       "\n",
       "   gender_1  agecat_4  card2_3  totalspent  \n",
       "0         1         0        0    5.013697  \n",
       "1         0         0        0    4.363608  \n",
       "2         1         0        0    5.888795  \n",
       "3         0         0        1    5.887242  \n",
       "4         0         0        0    6.232114  "
      ]
     },
     "execution_count": 184,
     "metadata": {},
     "output_type": "execute_result"
    }
   ],
   "source": [
    "data_select_f.head()"
   ]
  },
  {
   "cell_type": "code",
   "execution_count": 1,
   "metadata": {},
   "outputs": [
    {
     "ename": "NameError",
     "evalue": "name 'data_select_f' is not defined",
     "output_type": "error",
     "traceback": [
      "\u001b[1;31m---------------------------------------------------------------------------\u001b[0m",
      "\u001b[1;31mNameError\u001b[0m                                 Traceback (most recent call last)",
      "\u001b[1;32m<ipython-input-1-0c16642290db>\u001b[0m in \u001b[0;36m<module>\u001b[1;34m()\u001b[0m\n\u001b[1;32m----> 1\u001b[1;33m \u001b[0mfeature_columns_f\u001b[0m \u001b[1;33m=\u001b[0m \u001b[0mdata_select_f\u001b[0m\u001b[1;33m.\u001b[0m\u001b[0mcolumns\u001b[0m\u001b[1;33m.\u001b[0m\u001b[0mdifference\u001b[0m\u001b[1;33m(\u001b[0m \u001b[1;33m[\u001b[0m\u001b[1;34m'totalspent'\u001b[0m\u001b[1;33m]\u001b[0m \u001b[1;33m)\u001b[0m\u001b[1;33m\u001b[0m\u001b[0m\n\u001b[0m",
      "\u001b[1;31mNameError\u001b[0m: name 'data_select_f' is not defined"
     ]
    }
   ],
   "source": [
    "feature_columns_f = data_select_f.columns.difference( ['totalspent'] )"
   ]
  },
  {
   "cell_type": "code",
   "execution_count": 186,
   "metadata": {},
   "outputs": [
    {
     "data": {
      "text/plain": [
       "Index(['age', 'agecat_3', 'agecat_4', 'card2_3', 'card2_4', 'card2_5',\n",
       "       'card2tenure_26', 'card_5', 'cardtenure_39', 'employ_16', 'employ_32',\n",
       "       'employ_34', 'gender_1', 'inccat_2', 'polview_6', 'reason_9', 'tenure'],\n",
       "      dtype='object')"
      ]
     },
     "execution_count": 186,
     "metadata": {},
     "output_type": "execute_result"
    }
   ],
   "source": [
    "feature_columns_f"
   ]
  },
  {
   "cell_type": "code",
   "execution_count": 187,
   "metadata": {},
   "outputs": [],
   "source": [
    "# Splitting the Data \n",
    "train_X_f, test_X_f, train_y_f, test_y_f = train_test_split( data_select_f[feature_columns_f],\n",
    "                                                  data_select_f['totalspent'],\n",
    "                                                  test_size = 0.3,\n",
    "                                                  random_state = 123 )"
   ]
  },
  {
   "cell_type": "code",
   "execution_count": 188,
   "metadata": {},
   "outputs": [],
   "source": [
    "# Training OLS Model on Selected Data  \n",
    "train_X_f = sm.add_constant(train_X_f)\n",
    "lm_f=sm.OLS(train_y_f,train_X_f).fit()"
   ]
  },
  {
   "cell_type": "code",
   "execution_count": 189,
   "metadata": {},
   "outputs": [
    {
     "data": {
      "text/html": [
       "<table class=\"simpletable\">\n",
       "<caption>OLS Regression Results</caption>\n",
       "<tr>\n",
       "  <th>Dep. Variable:</th>       <td>totalspent</td>    <th>  R-squared:         </th> <td>   0.036</td>\n",
       "</tr>\n",
       "<tr>\n",
       "  <th>Model:</th>                   <td>OLS</td>       <th>  Adj. R-squared:    </th> <td>   0.031</td>\n",
       "</tr>\n",
       "<tr>\n",
       "  <th>Method:</th>             <td>Least Squares</td>  <th>  F-statistic:       </th> <td>   7.662</td>\n",
       "</tr>\n",
       "<tr>\n",
       "  <th>Date:</th>             <td>Sat, 27 Oct 2018</td> <th>  Prob (F-statistic):</th> <td>4.23e-19</td>\n",
       "</tr>\n",
       "<tr>\n",
       "  <th>Time:</th>                 <td>14:20:29</td>     <th>  Log-Likelihood:    </th> <td> -3414.9</td>\n",
       "</tr>\n",
       "<tr>\n",
       "  <th>No. Observations:</th>      <td>  3500</td>      <th>  AIC:               </th> <td>   6866.</td>\n",
       "</tr>\n",
       "<tr>\n",
       "  <th>Df Residuals:</th>          <td>  3482</td>      <th>  BIC:               </th> <td>   6977.</td>\n",
       "</tr>\n",
       "<tr>\n",
       "  <th>Df Model:</th>              <td>    17</td>      <th>                     </th>     <td> </td>   \n",
       "</tr>\n",
       "<tr>\n",
       "  <th>Covariance Type:</th>      <td>nonrobust</td>    <th>                     </th>     <td> </td>   \n",
       "</tr>\n",
       "</table>\n",
       "<table class=\"simpletable\">\n",
       "<tr>\n",
       "         <td></td>           <th>coef</th>     <th>std err</th>      <th>t</th>      <th>P>|t|</th>  <th>[0.025</th>    <th>0.975]</th>  \n",
       "</tr>\n",
       "<tr>\n",
       "  <th>const</th>          <td>    6.1101</td> <td>    0.053</td> <td>  114.872</td> <td> 0.000</td> <td>    6.006</td> <td>    6.214</td>\n",
       "</tr>\n",
       "<tr>\n",
       "  <th>age</th>            <td>   -0.0016</td> <td>    0.001</td> <td>   -1.805</td> <td> 0.071</td> <td>   -0.003</td> <td>    0.000</td>\n",
       "</tr>\n",
       "<tr>\n",
       "  <th>agecat_3</th>       <td>    0.0253</td> <td>    0.036</td> <td>    0.713</td> <td> 0.476</td> <td>   -0.044</td> <td>    0.095</td>\n",
       "</tr>\n",
       "<tr>\n",
       "  <th>agecat_4</th>       <td>    0.1214</td> <td>    0.028</td> <td>    4.283</td> <td> 0.000</td> <td>    0.066</td> <td>    0.177</td>\n",
       "</tr>\n",
       "<tr>\n",
       "  <th>card2_3</th>        <td>   -0.1070</td> <td>    0.027</td> <td>   -4.003</td> <td> 0.000</td> <td>   -0.159</td> <td>   -0.055</td>\n",
       "</tr>\n",
       "<tr>\n",
       "  <th>card2_4</th>        <td>    0.0466</td> <td>    0.028</td> <td>    1.639</td> <td> 0.101</td> <td>   -0.009</td> <td>    0.102</td>\n",
       "</tr>\n",
       "<tr>\n",
       "  <th>card2_5</th>        <td>   -0.1362</td> <td>    0.044</td> <td>   -3.063</td> <td> 0.002</td> <td>   -0.223</td> <td>   -0.049</td>\n",
       "</tr>\n",
       "<tr>\n",
       "  <th>card2tenure_26</th> <td>    0.1624</td> <td>    0.071</td> <td>    2.282</td> <td> 0.023</td> <td>    0.023</td> <td>    0.302</td>\n",
       "</tr>\n",
       "<tr>\n",
       "  <th>card_5</th>         <td>   -0.1408</td> <td>    0.053</td> <td>   -2.664</td> <td> 0.008</td> <td>   -0.244</td> <td>   -0.037</td>\n",
       "</tr>\n",
       "<tr>\n",
       "  <th>cardtenure_39</th>  <td>    0.0589</td> <td>    0.075</td> <td>    0.787</td> <td> 0.431</td> <td>   -0.088</td> <td>    0.205</td>\n",
       "</tr>\n",
       "<tr>\n",
       "  <th>employ_16</th>      <td>    0.1746</td> <td>    0.080</td> <td>    2.188</td> <td> 0.029</td> <td>    0.018</td> <td>    0.331</td>\n",
       "</tr>\n",
       "<tr>\n",
       "  <th>employ_32</th>      <td>    0.3608</td> <td>    0.153</td> <td>    2.354</td> <td> 0.019</td> <td>    0.060</td> <td>    0.661</td>\n",
       "</tr>\n",
       "<tr>\n",
       "  <th>employ_34</th>      <td>    0.0513</td> <td>    0.150</td> <td>    0.342</td> <td> 0.732</td> <td>   -0.243</td> <td>    0.345</td>\n",
       "</tr>\n",
       "<tr>\n",
       "  <th>gender_1</th>       <td>   -0.0746</td> <td>    0.022</td> <td>   -3.412</td> <td> 0.001</td> <td>   -0.117</td> <td>   -0.032</td>\n",
       "</tr>\n",
       "<tr>\n",
       "  <th>inccat_2</th>       <td>   -0.0824</td> <td>    0.023</td> <td>   -3.519</td> <td> 0.000</td> <td>   -0.128</td> <td>   -0.036</td>\n",
       "</tr>\n",
       "<tr>\n",
       "  <th>polview_6</th>      <td>    0.0881</td> <td>    0.029</td> <td>    3.002</td> <td> 0.003</td> <td>    0.031</td> <td>    0.146</td>\n",
       "</tr>\n",
       "<tr>\n",
       "  <th>reason_9</th>       <td>   -0.0610</td> <td>    0.028</td> <td>   -2.172</td> <td> 0.030</td> <td>   -0.116</td> <td>   -0.006</td>\n",
       "</tr>\n",
       "<tr>\n",
       "  <th>tenure</th>         <td>    0.0014</td> <td>    0.001</td> <td>    2.175</td> <td> 0.030</td> <td>    0.000</td> <td>    0.003</td>\n",
       "</tr>\n",
       "</table>\n",
       "<table class=\"simpletable\">\n",
       "<tr>\n",
       "  <th>Omnibus:</th>       <td>78.553</td> <th>  Durbin-Watson:     </th> <td>   1.972</td>\n",
       "</tr>\n",
       "<tr>\n",
       "  <th>Prob(Omnibus):</th> <td> 0.000</td> <th>  Jarque-Bera (JB):  </th> <td>  86.685</td>\n",
       "</tr>\n",
       "<tr>\n",
       "  <th>Skew:</th>          <td>-0.339</td> <th>  Prob(JB):          </th> <td>1.50e-19</td>\n",
       "</tr>\n",
       "<tr>\n",
       "  <th>Kurtosis:</th>      <td> 3.366</td> <th>  Cond. No.          </th> <td>    933.</td>\n",
       "</tr>\n",
       "</table><br/><br/>Warnings:<br/>[1] Standard Errors assume that the covariance matrix of the errors is correctly specified."
      ],
      "text/plain": [
       "<class 'statsmodels.iolib.summary.Summary'>\n",
       "\"\"\"\n",
       "                            OLS Regression Results                            \n",
       "==============================================================================\n",
       "Dep. Variable:             totalspent   R-squared:                       0.036\n",
       "Model:                            OLS   Adj. R-squared:                  0.031\n",
       "Method:                 Least Squares   F-statistic:                     7.662\n",
       "Date:                Sat, 27 Oct 2018   Prob (F-statistic):           4.23e-19\n",
       "Time:                        14:20:29   Log-Likelihood:                -3414.9\n",
       "No. Observations:                3500   AIC:                             6866.\n",
       "Df Residuals:                    3482   BIC:                             6977.\n",
       "Df Model:                          17                                         \n",
       "Covariance Type:            nonrobust                                         \n",
       "==================================================================================\n",
       "                     coef    std err          t      P>|t|      [0.025      0.975]\n",
       "----------------------------------------------------------------------------------\n",
       "const              6.1101      0.053    114.872      0.000       6.006       6.214\n",
       "age               -0.0016      0.001     -1.805      0.071      -0.003       0.000\n",
       "agecat_3           0.0253      0.036      0.713      0.476      -0.044       0.095\n",
       "agecat_4           0.1214      0.028      4.283      0.000       0.066       0.177\n",
       "card2_3           -0.1070      0.027     -4.003      0.000      -0.159      -0.055\n",
       "card2_4            0.0466      0.028      1.639      0.101      -0.009       0.102\n",
       "card2_5           -0.1362      0.044     -3.063      0.002      -0.223      -0.049\n",
       "card2tenure_26     0.1624      0.071      2.282      0.023       0.023       0.302\n",
       "card_5            -0.1408      0.053     -2.664      0.008      -0.244      -0.037\n",
       "cardtenure_39      0.0589      0.075      0.787      0.431      -0.088       0.205\n",
       "employ_16          0.1746      0.080      2.188      0.029       0.018       0.331\n",
       "employ_32          0.3608      0.153      2.354      0.019       0.060       0.661\n",
       "employ_34          0.0513      0.150      0.342      0.732      -0.243       0.345\n",
       "gender_1          -0.0746      0.022     -3.412      0.001      -0.117      -0.032\n",
       "inccat_2          -0.0824      0.023     -3.519      0.000      -0.128      -0.036\n",
       "polview_6          0.0881      0.029      3.002      0.003       0.031       0.146\n",
       "reason_9          -0.0610      0.028     -2.172      0.030      -0.116      -0.006\n",
       "tenure             0.0014      0.001      2.175      0.030       0.000       0.003\n",
       "==============================================================================\n",
       "Omnibus:                       78.553   Durbin-Watson:                   1.972\n",
       "Prob(Omnibus):                  0.000   Jarque-Bera (JB):               86.685\n",
       "Skew:                          -0.339   Prob(JB):                     1.50e-19\n",
       "Kurtosis:                       3.366   Cond. No.                         933.\n",
       "==============================================================================\n",
       "\n",
       "Warnings:\n",
       "[1] Standard Errors assume that the covariance matrix of the errors is correctly specified.\n",
       "\"\"\""
      ]
     },
     "execution_count": 189,
     "metadata": {},
     "output_type": "execute_result"
    }
   ],
   "source": [
    "lm_f.summary()"
   ]
  },
  {
   "cell_type": "code",
   "execution_count": 69,
   "metadata": {},
   "outputs": [],
   "source": [
    "# Sorting p_values in Descending Order\n",
    "summary_pvalue_f=lm_f.pvalues.sort_values(ascending=False)"
   ]
  },
  {
   "cell_type": "code",
   "execution_count": 70,
   "metadata": {},
   "outputs": [
    {
     "data": {
      "text/plain": [
       "employ_34         0.732187\n",
       "agecat_3          0.476041\n",
       "cardtenure_39     0.431237\n",
       "card2_4           0.101276\n",
       "age               0.071223\n",
       "reason_9          0.029934\n",
       "tenure            0.029668\n",
       "employ_16         0.028742\n",
       "card2tenure_26    0.022571\n",
       "employ_32         0.018609\n",
       "card_5            0.007769\n",
       "polview_6         0.002704\n",
       "card2_5           0.002211\n",
       "gender_1          0.000651\n",
       "inccat_2          0.000438\n",
       "card2_3           0.000064\n",
       "agecat_4          0.000019\n",
       "const             0.000000\n",
       "dtype: float64"
      ]
     },
     "execution_count": 70,
     "metadata": {},
     "output_type": "execute_result"
    }
   ],
   "source": [
    "summary_pvalue_f"
   ]
  },
  {
   "cell_type": "code",
   "execution_count": 71,
   "metadata": {},
   "outputs": [],
   "source": [
    "# Taking variables which have p-value less than 0.02\n",
    "while(summary_pvalue_f[0])>0.02:\n",
    "    train_X_f.drop(summary_pvalue_f.index[0],axis=1,inplace=True)\n",
    "    lm_f=sm.OLS(train_y_f,train_X_f).fit()\n",
    "    summary_pvalue_f=lm_f.pvalues.sort_values(ascending=False)\n",
    "    "
   ]
  },
  {
   "cell_type": "code",
   "execution_count": 72,
   "metadata": {},
   "outputs": [
    {
     "data": {
      "text/html": [
       "<table class=\"simpletable\">\n",
       "<caption>OLS Regression Results</caption>\n",
       "<tr>\n",
       "  <th>Dep. Variable:</th>       <td>totalspent</td>    <th>  R-squared:         </th> <td>   0.029</td>\n",
       "</tr>\n",
       "<tr>\n",
       "  <th>Model:</th>                   <td>OLS</td>       <th>  Adj. R-squared:    </th> <td>   0.027</td>\n",
       "</tr>\n",
       "<tr>\n",
       "  <th>Method:</th>             <td>Least Squares</td>  <th>  F-statistic:       </th> <td>   13.07</td>\n",
       "</tr>\n",
       "<tr>\n",
       "  <th>Date:</th>             <td>Sat, 27 Oct 2018</td> <th>  Prob (F-statistic):</th> <td>9.97e-19</td>\n",
       "</tr>\n",
       "<tr>\n",
       "  <th>Time:</th>                 <td>13:54:03</td>     <th>  Log-Likelihood:    </th> <td> -3427.6</td>\n",
       "</tr>\n",
       "<tr>\n",
       "  <th>No. Observations:</th>      <td>  3500</td>      <th>  AIC:               </th> <td>   6873.</td>\n",
       "</tr>\n",
       "<tr>\n",
       "  <th>Df Residuals:</th>          <td>  3491</td>      <th>  BIC:               </th> <td>   6929.</td>\n",
       "</tr>\n",
       "<tr>\n",
       "  <th>Df Model:</th>              <td>     8</td>      <th>                     </th>     <td> </td>   \n",
       "</tr>\n",
       "<tr>\n",
       "  <th>Covariance Type:</th>      <td>nonrobust</td>    <th>                     </th>     <td> </td>   \n",
       "</tr>\n",
       "</table>\n",
       "<table class=\"simpletable\">\n",
       "<tr>\n",
       "         <td></td>           <th>coef</th>     <th>std err</th>      <th>t</th>      <th>P>|t|</th>  <th>[0.025</th>    <th>0.975]</th>  \n",
       "</tr>\n",
       "<tr>\n",
       "  <th>const</th>          <td>    6.0654</td> <td>    0.020</td> <td>  298.785</td> <td> 0.000</td> <td>    6.026</td> <td>    6.105</td>\n",
       "</tr>\n",
       "<tr>\n",
       "  <th>agecat_4</th>       <td>    0.1175</td> <td>    0.026</td> <td>    4.588</td> <td> 0.000</td> <td>    0.067</td> <td>    0.168</td>\n",
       "</tr>\n",
       "<tr>\n",
       "  <th>card2_3</th>        <td>   -0.1232</td> <td>    0.025</td> <td>   -4.941</td> <td> 0.000</td> <td>   -0.172</td> <td>   -0.074</td>\n",
       "</tr>\n",
       "<tr>\n",
       "  <th>card2_5</th>        <td>   -0.1571</td> <td>    0.043</td> <td>   -3.629</td> <td> 0.000</td> <td>   -0.242</td> <td>   -0.072</td>\n",
       "</tr>\n",
       "<tr>\n",
       "  <th>card2tenure_26</th> <td>    0.1749</td> <td>    0.070</td> <td>    2.505</td> <td> 0.012</td> <td>    0.038</td> <td>    0.312</td>\n",
       "</tr>\n",
       "<tr>\n",
       "  <th>card_5</th>         <td>   -0.1483</td> <td>    0.053</td> <td>   -2.813</td> <td> 0.005</td> <td>   -0.252</td> <td>   -0.045</td>\n",
       "</tr>\n",
       "<tr>\n",
       "  <th>gender_1</th>       <td>   -0.0725</td> <td>    0.022</td> <td>   -3.313</td> <td> 0.001</td> <td>   -0.115</td> <td>   -0.030</td>\n",
       "</tr>\n",
       "<tr>\n",
       "  <th>inccat_2</th>       <td>   -0.0836</td> <td>    0.023</td> <td>   -3.659</td> <td> 0.000</td> <td>   -0.128</td> <td>   -0.039</td>\n",
       "</tr>\n",
       "<tr>\n",
       "  <th>polview_6</th>      <td>    0.0889</td> <td>    0.029</td> <td>    3.027</td> <td> 0.002</td> <td>    0.031</td> <td>    0.146</td>\n",
       "</tr>\n",
       "</table>\n",
       "<table class=\"simpletable\">\n",
       "<tr>\n",
       "  <th>Omnibus:</th>       <td>81.712</td> <th>  Durbin-Watson:     </th> <td>   1.971</td>\n",
       "</tr>\n",
       "<tr>\n",
       "  <th>Prob(Omnibus):</th> <td> 0.000</td> <th>  Jarque-Bera (JB):  </th> <td>  90.282</td>\n",
       "</tr>\n",
       "<tr>\n",
       "  <th>Skew:</th>          <td>-0.347</td> <th>  Prob(JB):          </th> <td>2.49e-20</td>\n",
       "</tr>\n",
       "<tr>\n",
       "  <th>Kurtosis:</th>      <td> 3.369</td> <th>  Cond. No.          </th> <td>    8.25</td>\n",
       "</tr>\n",
       "</table><br/><br/>Warnings:<br/>[1] Standard Errors assume that the covariance matrix of the errors is correctly specified."
      ],
      "text/plain": [
       "<class 'statsmodels.iolib.summary.Summary'>\n",
       "\"\"\"\n",
       "                            OLS Regression Results                            \n",
       "==============================================================================\n",
       "Dep. Variable:             totalspent   R-squared:                       0.029\n",
       "Model:                            OLS   Adj. R-squared:                  0.027\n",
       "Method:                 Least Squares   F-statistic:                     13.07\n",
       "Date:                Sat, 27 Oct 2018   Prob (F-statistic):           9.97e-19\n",
       "Time:                        13:54:03   Log-Likelihood:                -3427.6\n",
       "No. Observations:                3500   AIC:                             6873.\n",
       "Df Residuals:                    3491   BIC:                             6929.\n",
       "Df Model:                           8                                         \n",
       "Covariance Type:            nonrobust                                         \n",
       "==================================================================================\n",
       "                     coef    std err          t      P>|t|      [0.025      0.975]\n",
       "----------------------------------------------------------------------------------\n",
       "const              6.0654      0.020    298.785      0.000       6.026       6.105\n",
       "agecat_4           0.1175      0.026      4.588      0.000       0.067       0.168\n",
       "card2_3           -0.1232      0.025     -4.941      0.000      -0.172      -0.074\n",
       "card2_5           -0.1571      0.043     -3.629      0.000      -0.242      -0.072\n",
       "card2tenure_26     0.1749      0.070      2.505      0.012       0.038       0.312\n",
       "card_5            -0.1483      0.053     -2.813      0.005      -0.252      -0.045\n",
       "gender_1          -0.0725      0.022     -3.313      0.001      -0.115      -0.030\n",
       "inccat_2          -0.0836      0.023     -3.659      0.000      -0.128      -0.039\n",
       "polview_6          0.0889      0.029      3.027      0.002       0.031       0.146\n",
       "==============================================================================\n",
       "Omnibus:                       81.712   Durbin-Watson:                   1.971\n",
       "Prob(Omnibus):                  0.000   Jarque-Bera (JB):               90.282\n",
       "Skew:                          -0.347   Prob(JB):                     2.49e-20\n",
       "Kurtosis:                       3.369   Cond. No.                         8.25\n",
       "==============================================================================\n",
       "\n",
       "Warnings:\n",
       "[1] Standard Errors assume that the covariance matrix of the errors is correctly specified.\n",
       "\"\"\""
      ]
     },
     "execution_count": 72,
     "metadata": {},
     "output_type": "execute_result"
    }
   ],
   "source": [
    "# Final Summary\n",
    "lm_f.summary()"
   ]
  },
  {
   "cell_type": "code",
   "execution_count": 73,
   "metadata": {},
   "outputs": [
    {
     "name": "stdout",
     "output_type": "stream",
     "text": [
      "totalspent~const+agecat_4+card2_3+card2_5+card2tenure_26+card_5+gender_1+inccat_2+polview_6\n"
     ]
    }
   ],
   "source": [
    "all_columns_f = \"+\".join(train_X_f.columns)\n",
    "# print (all_columns)\n",
    "my_formula_f = \"totalspent~\" + all_columns_f\n",
    "print (my_formula_f)"
   ]
  },
  {
   "cell_type": "code",
   "execution_count": 74,
   "metadata": {},
   "outputs": [],
   "source": [
    "datanew_f=pd.concat([train_X_f,train_y_f],axis=1)"
   ]
  },
  {
   "cell_type": "code",
   "execution_count": 75,
   "metadata": {},
   "outputs": [],
   "source": [
    "%%capture\n",
    "#gather features\n",
    "y, X = dmatrices(formula_like=my_formula_f,data=datanew_f, return_type='dataframe')"
   ]
  },
  {
   "cell_type": "code",
   "execution_count": 76,
   "metadata": {},
   "outputs": [
    {
     "name": "stderr",
     "output_type": "stream",
     "text": [
      "C:\\Users\\raghu\\Anaconda3\\lib\\site-packages\\statsmodels\\regression\\linear_model.py:1543: RuntimeWarning: divide by zero encountered in double_scalars\n",
      "  return 1 - self.ssr/self.centered_tss\n"
     ]
    }
   ],
   "source": [
    "# VIF For Selected Variables \n",
    "vif = pd.DataFrame()\n",
    "vif[\"VIF Factor\"] = [variance_inflation_factor(X.values, i) for i in range(X.shape[1])]\n",
    "vif[\"features\"] = X.columns"
   ]
  },
  {
   "cell_type": "code",
   "execution_count": 77,
   "metadata": {},
   "outputs": [
    {
     "data": {
      "text/html": [
       "<div>\n",
       "<style scoped>\n",
       "    .dataframe tbody tr th:only-of-type {\n",
       "        vertical-align: middle;\n",
       "    }\n",
       "\n",
       "    .dataframe tbody tr th {\n",
       "        vertical-align: top;\n",
       "    }\n",
       "\n",
       "    .dataframe thead th {\n",
       "        text-align: right;\n",
       "    }\n",
       "</style>\n",
       "<table border=\"1\" class=\"dataframe\">\n",
       "  <thead>\n",
       "    <tr style=\"text-align: right;\">\n",
       "      <th></th>\n",
       "      <th>VIF Factor</th>\n",
       "      <th>features</th>\n",
       "    </tr>\n",
       "  </thead>\n",
       "  <tbody>\n",
       "    <tr>\n",
       "      <th>3</th>\n",
       "      <td>1.041732</td>\n",
       "      <td>card2_3</td>\n",
       "    </tr>\n",
       "    <tr>\n",
       "      <th>4</th>\n",
       "      <td>1.033763</td>\n",
       "      <td>card2_5</td>\n",
       "    </tr>\n",
       "    <tr>\n",
       "      <th>2</th>\n",
       "      <td>1.021827</td>\n",
       "      <td>agecat_4</td>\n",
       "    </tr>\n",
       "    <tr>\n",
       "      <th>8</th>\n",
       "      <td>1.017153</td>\n",
       "      <td>inccat_2</td>\n",
       "    </tr>\n",
       "    <tr>\n",
       "      <th>6</th>\n",
       "      <td>1.013357</td>\n",
       "      <td>card_5</td>\n",
       "    </tr>\n",
       "    <tr>\n",
       "      <th>9</th>\n",
       "      <td>1.007291</td>\n",
       "      <td>polview_6</td>\n",
       "    </tr>\n",
       "    <tr>\n",
       "      <th>7</th>\n",
       "      <td>1.007239</td>\n",
       "      <td>gender_1</td>\n",
       "    </tr>\n",
       "    <tr>\n",
       "      <th>5</th>\n",
       "      <td>1.004961</td>\n",
       "      <td>card2tenure_26</td>\n",
       "    </tr>\n",
       "    <tr>\n",
       "      <th>0</th>\n",
       "      <td>0.000000</td>\n",
       "      <td>Intercept</td>\n",
       "    </tr>\n",
       "    <tr>\n",
       "      <th>1</th>\n",
       "      <td>0.000000</td>\n",
       "      <td>const</td>\n",
       "    </tr>\n",
       "  </tbody>\n",
       "</table>\n",
       "</div>"
      ],
      "text/plain": [
       "   VIF Factor        features\n",
       "3    1.041732         card2_3\n",
       "4    1.033763         card2_5\n",
       "2    1.021827        agecat_4\n",
       "8    1.017153        inccat_2\n",
       "6    1.013357          card_5\n",
       "9    1.007291       polview_6\n",
       "7    1.007239        gender_1\n",
       "5    1.004961  card2tenure_26\n",
       "0    0.000000       Intercept\n",
       "1    0.000000           const"
      ]
     },
     "execution_count": 77,
     "metadata": {},
     "output_type": "execute_result"
    }
   ],
   "source": [
    "vif.sort_values('VIF Factor',ascending=False)# VIF is good for all Features "
   ]
  },
  {
   "cell_type": "code",
   "execution_count": 78,
   "metadata": {},
   "outputs": [],
   "source": [
    "datanew_var_f=[]\n",
    "for var in datanew_f.columns:\n",
    "    datanew_var_f.append(var)"
   ]
  },
  {
   "cell_type": "code",
   "execution_count": 79,
   "metadata": {},
   "outputs": [],
   "source": [
    "datanew_var_f.remove('const')"
   ]
  },
  {
   "cell_type": "code",
   "execution_count": 80,
   "metadata": {},
   "outputs": [],
   "source": [
    "data_final_f=data[datanew_var_f] # Subsetting the Final Data "
   ]
  },
  {
   "cell_type": "code",
   "execution_count": 81,
   "metadata": {},
   "outputs": [
    {
     "data": {
      "text/html": [
       "<div>\n",
       "<style scoped>\n",
       "    .dataframe tbody tr th:only-of-type {\n",
       "        vertical-align: middle;\n",
       "    }\n",
       "\n",
       "    .dataframe tbody tr th {\n",
       "        vertical-align: top;\n",
       "    }\n",
       "\n",
       "    .dataframe thead th {\n",
       "        text-align: right;\n",
       "    }\n",
       "</style>\n",
       "<table border=\"1\" class=\"dataframe\">\n",
       "  <thead>\n",
       "    <tr style=\"text-align: right;\">\n",
       "      <th></th>\n",
       "      <th>agecat_4</th>\n",
       "      <th>card2_3</th>\n",
       "      <th>card2_5</th>\n",
       "      <th>card2tenure_26</th>\n",
       "      <th>card_5</th>\n",
       "      <th>gender_1</th>\n",
       "      <th>inccat_2</th>\n",
       "      <th>polview_6</th>\n",
       "      <th>totalspent</th>\n",
       "    </tr>\n",
       "  </thead>\n",
       "  <tbody>\n",
       "    <tr>\n",
       "      <th>0</th>\n",
       "      <td>0</td>\n",
       "      <td>0</td>\n",
       "      <td>1</td>\n",
       "      <td>0</td>\n",
       "      <td>0</td>\n",
       "      <td>1</td>\n",
       "      <td>1</td>\n",
       "      <td>1</td>\n",
       "      <td>5.013697</td>\n",
       "    </tr>\n",
       "    <tr>\n",
       "      <th>1</th>\n",
       "      <td>0</td>\n",
       "      <td>0</td>\n",
       "      <td>0</td>\n",
       "      <td>0</td>\n",
       "      <td>0</td>\n",
       "      <td>0</td>\n",
       "      <td>0</td>\n",
       "      <td>0</td>\n",
       "      <td>4.363608</td>\n",
       "    </tr>\n",
       "    <tr>\n",
       "      <th>2</th>\n",
       "      <td>0</td>\n",
       "      <td>0</td>\n",
       "      <td>0</td>\n",
       "      <td>0</td>\n",
       "      <td>0</td>\n",
       "      <td>1</td>\n",
       "      <td>1</td>\n",
       "      <td>0</td>\n",
       "      <td>5.888795</td>\n",
       "    </tr>\n",
       "    <tr>\n",
       "      <th>3</th>\n",
       "      <td>0</td>\n",
       "      <td>1</td>\n",
       "      <td>0</td>\n",
       "      <td>0</td>\n",
       "      <td>0</td>\n",
       "      <td>0</td>\n",
       "      <td>0</td>\n",
       "      <td>0</td>\n",
       "      <td>5.887242</td>\n",
       "    </tr>\n",
       "    <tr>\n",
       "      <th>4</th>\n",
       "      <td>0</td>\n",
       "      <td>0</td>\n",
       "      <td>0</td>\n",
       "      <td>0</td>\n",
       "      <td>0</td>\n",
       "      <td>0</td>\n",
       "      <td>0</td>\n",
       "      <td>0</td>\n",
       "      <td>6.232114</td>\n",
       "    </tr>\n",
       "  </tbody>\n",
       "</table>\n",
       "</div>"
      ],
      "text/plain": [
       "   agecat_4  card2_3  card2_5  card2tenure_26  card_5  gender_1  inccat_2  \\\n",
       "0         0        0        1               0       0         1         1   \n",
       "1         0        0        0               0       0         0         0   \n",
       "2         0        0        0               0       0         1         1   \n",
       "3         0        1        0               0       0         0         0   \n",
       "4         0        0        0               0       0         0         0   \n",
       "\n",
       "   polview_6  totalspent  \n",
       "0          1    5.013697  \n",
       "1          0    4.363608  \n",
       "2          0    5.888795  \n",
       "3          0    5.887242  \n",
       "4          0    6.232114  "
      ]
     },
     "execution_count": 81,
     "metadata": {},
     "output_type": "execute_result"
    }
   ],
   "source": [
    "data_final_f.head()"
   ]
  },
  {
   "cell_type": "code",
   "execution_count": 82,
   "metadata": {},
   "outputs": [],
   "source": [
    "feature_columns_f = data_final_f.columns.difference( ['totalspent'] )"
   ]
  },
  {
   "cell_type": "code",
   "execution_count": 83,
   "metadata": {},
   "outputs": [
    {
     "data": {
      "text/plain": [
       "Index(['agecat_4', 'card2_3', 'card2_5', 'card2tenure_26', 'card_5',\n",
       "       'gender_1', 'inccat_2', 'polview_6'],\n",
       "      dtype='object')"
      ]
     },
     "execution_count": 83,
     "metadata": {},
     "output_type": "execute_result"
    }
   ],
   "source": [
    "feature_columns_f"
   ]
  },
  {
   "cell_type": "code",
   "execution_count": 84,
   "metadata": {},
   "outputs": [],
   "source": [
    "# Splitting the Data  \n",
    "train_X_f, test_X_f, train_y_f, test_y_f = train_test_split( data_final_f[feature_columns_f],\n",
    "                                                  data_final_f['totalspent'],\n",
    "                                                  test_size = 0.3,\n",
    "                                                  random_state = 123 )"
   ]
  },
  {
   "cell_type": "code",
   "execution_count": 85,
   "metadata": {},
   "outputs": [
    {
     "data": {
      "text/plain": [
       "LinearRegression(copy_X=True, fit_intercept=True, n_jobs=1, normalize=False)"
      ]
     },
     "execution_count": 85,
     "metadata": {},
     "output_type": "execute_result"
    }
   ],
   "source": [
    "## Building the model with train set and make predictions on test set\n",
    "linreg = LinearRegression()\n",
    "linreg.fit( train_X_f, train_y_f )"
   ]
  },
  {
   "cell_type": "code",
   "execution_count": 86,
   "metadata": {},
   "outputs": [
    {
     "name": "stdout",
     "output_type": "stream",
     "text": [
      "0.6442759210815869\n",
      "0.029073006331494677\n"
     ]
    }
   ],
   "source": [
    "# Predicting on Training Data  Insight -->> r2_score is low \n",
    "y_pred_t_f = linreg.predict(train_X_f)\n",
    "rmse_t_f = np.sqrt( metrics.mean_squared_error( train_y_f, y_pred_t_f) )\n",
    "print (rmse_t_f)\n",
    "print (metrics.r2_score( train_y_f, y_pred_t_f ))"
   ]
  },
  {
   "cell_type": "code",
   "execution_count": 87,
   "metadata": {},
   "outputs": [
    {
     "name": "stdout",
     "output_type": "stream",
     "text": [
      "0.6026754034100716\n",
      "0.03650947190914311\n"
     ]
    }
   ],
   "source": [
    "# Predicting on Testing Data  Insight -->> r2_score is low \n",
    "y_pred_f = linreg.predict( test_X_f )\n",
    "rmse_f = np.sqrt( metrics.mean_squared_error( test_y_f, y_pred_f ) )\n",
    "print (rmse_f)\n",
    "print (metrics.r2_score( test_y_f, y_pred_f ))"
   ]
  },
  {
   "cell_type": "code",
   "execution_count": 88,
   "metadata": {},
   "outputs": [],
   "source": [
    "# Residuals \n",
    "residuals_f = train_y_f - y_pred_t_f"
   ]
  },
  {
   "cell_type": "code",
   "execution_count": 89,
   "metadata": {},
   "outputs": [
    {
     "name": "stderr",
     "output_type": "stream",
     "text": [
      "C:\\Users\\raghu\\Anaconda3\\lib\\site-packages\\matplotlib\\axes\\_axes.py:6462: UserWarning: The 'normed' kwarg is deprecated, and has been replaced by the 'density' kwarg.\n",
      "  warnings.warn(\"The 'normed' kwarg is deprecated, and has been \"\n"
     ]
    },
    {
     "data": {
      "text/plain": [
       "<matplotlib.axes._subplots.AxesSubplot at 0x20b36a11dd8>"
      ]
     },
     "execution_count": 89,
     "metadata": {},
     "output_type": "execute_result"
    },
    {
     "data": {
      "image/png": "[encoded data removed]",
      "text/plain": [
       "<Figure size 432x288 with 1 Axes>"
      ]
     },
     "metadata": {},
     "output_type": "display_data"
    }
   ],
   "source": [
    "sns.distplot(residuals_f) # Residuals are Normal"
   ]
  },
  {
   "cell_type": "code",
   "execution_count": 90,
   "metadata": {},
   "outputs": [
    {
     "data": {
      "image/png": "[encoded data removed]",
      "text/plain": [
       "<Figure size 432x288 with 1 Axes>"
      ]
     },
     "metadata": {},
     "output_type": "display_data"
    }
   ],
   "source": [
    "# To ensure residues are random i.e. normally distributed a Q-Q plot can be used\n",
    "# Q-Q plot shows if the residuals are plotted along the line.\n",
    "# Q-Q Plot seems to fine in Middle but not on the starting an Ending of the line \n",
    "stats.probplot( residuals_f, dist=\"norm\", plot=pylab )\n",
    "pylab.show()"
   ]
  },
  {
   "cell_type": "code",
   "execution_count": 91,
   "metadata": {},
   "outputs": [
    {
     "name": "stderr",
     "output_type": "stream",
     "text": [
      "C:\\Users\\raghu\\Anaconda3\\lib\\site-packages\\matplotlib\\axes\\_axes.py:6462: UserWarning: The 'normed' kwarg is deprecated, and has been replaced by the 'density' kwarg.\n",
      "  warnings.warn(\"The 'normed' kwarg is deprecated, and has been \"\n",
      "C:\\Users\\raghu\\Anaconda3\\lib\\site-packages\\matplotlib\\axes\\_axes.py:6462: UserWarning: The 'normed' kwarg is deprecated, and has been replaced by the 'density' kwarg.\n",
      "  warnings.warn(\"The 'normed' kwarg is deprecated, and has been \"\n"
     ]
    },
    {
     "data": {
      "text/plain": [
       "<seaborn.axisgrid.JointGrid at 0x20b36bb19e8>"
      ]
     },
     "execution_count": 91,
     "metadata": {},
     "output_type": "execute_result"
    },
    {
     "data": {
      "image/png": "[encoded data removed]",
      "text/plain": [
       "<Figure size 432x432 with 3 Axes>"
      ]
     },
     "metadata": {},
     "output_type": "display_data"
    }
   ],
   "source": [
    "# Plot between Predicted and Residuals\n",
    "sns.jointplot(y_pred_t_f,residuals_f)"
   ]
  },
  {
   "cell_type": "markdown",
   "metadata": {},
   "source": [
    "#### Model formed using the f-Regression was not Good so Moving on Forward with the First Model "
   ]
  },
  {
   "cell_type": "markdown",
   "metadata": {},
   "source": [
    "### VIF and all for the first model "
   ]
  },
  {
   "cell_type": "code",
   "execution_count": 92,
   "metadata": {},
   "outputs": [
    {
     "name": "stdout",
     "output_type": "stream",
     "text": [
      "totalspent~const+age+agecat_3+agecat_4+agecat_5+agecat_6+card2_2+card2_3+card2_4+card2_5+card2items+card2tenure_26+card_2+card_3+card_4+card_5+carditems+cardtenure_39+ed+employ_16+employ_32+employ_34+equipten+gender_1+inccat_2+inccat_3+inccat_4+income+owncd_1+polview_6+reason_2+reason_9+retire_1+tenure\n"
     ]
    }
   ],
   "source": [
    "all_columns = \"+\".join(train_X.columns)\n",
    "# print (all_columns)\n",
    "my_formula = \"totalspent~\" + all_columns\n",
    "print (my_formula)"
   ]
  },
  {
   "cell_type": "code",
   "execution_count": 93,
   "metadata": {},
   "outputs": [],
   "source": [
    "datanew=pd.concat([train_X,train_y],axis=1) # Concatenating Training X and Y Variables "
   ]
  },
  {
   "cell_type": "code",
   "execution_count": 94,
   "metadata": {},
   "outputs": [],
   "source": [
    "datanew.drop('agecat_6',axis=1,inplace=True) # Dropping Variables based on High VIF "
   ]
  },
  {
   "cell_type": "code",
   "execution_count": 95,
   "metadata": {},
   "outputs": [],
   "source": [
    "all_columns = \"+\".join(datanew.columns.difference( ['totalspent'] ))\n",
    "# print (all_columns)\n",
    "my_formula = \"totalspent~\" + all_columns"
   ]
  },
  {
   "cell_type": "code",
   "execution_count": 96,
   "metadata": {},
   "outputs": [],
   "source": [
    "%%capture\n",
    "#gather features\n",
    "y, X = dmatrices(formula_like=my_formula,data=datanew, return_type='dataframe')"
   ]
  },
  {
   "cell_type": "code",
   "execution_count": 97,
   "metadata": {},
   "outputs": [
    {
     "name": "stderr",
     "output_type": "stream",
     "text": [
      "C:\\Users\\raghu\\Anaconda3\\lib\\site-packages\\statsmodels\\regression\\linear_model.py:1543: RuntimeWarning: divide by zero encountered in double_scalars\n",
      "  return 1 - self.ssr/self.centered_tss\n"
     ]
    }
   ],
   "source": [
    "# Calculating VIF for Model \n",
    "vif = pd.DataFrame()\n",
    "vif[\"VIF Factor\"] = [variance_inflation_factor(X.values, i) for i in range(X.shape[1])]\n",
    "vif[\"features\"] = X.columns"
   ]
  },
  {
   "cell_type": "code",
   "execution_count": 98,
   "metadata": {},
   "outputs": [
    {
     "data": {
      "text/html": [
       "<div>\n",
       "<style scoped>\n",
       "    .dataframe tbody tr th:only-of-type {\n",
       "        vertical-align: middle;\n",
       "    }\n",
       "\n",
       "    .dataframe tbody tr th {\n",
       "        vertical-align: top;\n",
       "    }\n",
       "\n",
       "    .dataframe thead th {\n",
       "        text-align: right;\n",
       "    }\n",
       "</style>\n",
       "<table border=\"1\" class=\"dataframe\">\n",
       "  <thead>\n",
       "    <tr style=\"text-align: right;\">\n",
       "      <th></th>\n",
       "      <th>VIF Factor</th>\n",
       "      <th>features</th>\n",
       "    </tr>\n",
       "  </thead>\n",
       "  <tbody>\n",
       "    <tr>\n",
       "      <th>1</th>\n",
       "      <td>3.232639</td>\n",
       "      <td>age</td>\n",
       "    </tr>\n",
       "    <tr>\n",
       "      <th>32</th>\n",
       "      <td>2.842130</td>\n",
       "      <td>retire_1</td>\n",
       "    </tr>\n",
       "    <tr>\n",
       "      <th>13</th>\n",
       "      <td>2.316367</td>\n",
       "      <td>card_4</td>\n",
       "    </tr>\n",
       "    <tr>\n",
       "      <th>7</th>\n",
       "      <td>2.271948</td>\n",
       "      <td>card2_4</td>\n",
       "    </tr>\n",
       "    <tr>\n",
       "      <th>6</th>\n",
       "      <td>2.131626</td>\n",
       "      <td>card2_3</td>\n",
       "    </tr>\n",
       "    <tr>\n",
       "      <th>5</th>\n",
       "      <td>2.077896</td>\n",
       "      <td>card2_2</td>\n",
       "    </tr>\n",
       "    <tr>\n",
       "      <th>11</th>\n",
       "      <td>2.059413</td>\n",
       "      <td>card_2</td>\n",
       "    </tr>\n",
       "    <tr>\n",
       "      <th>12</th>\n",
       "      <td>2.042483</td>\n",
       "      <td>card_3</td>\n",
       "    </tr>\n",
       "    <tr>\n",
       "      <th>33</th>\n",
       "      <td>1.962726</td>\n",
       "      <td>tenure</td>\n",
       "    </tr>\n",
       "    <tr>\n",
       "      <th>27</th>\n",
       "      <td>1.883705</td>\n",
       "      <td>income</td>\n",
       "    </tr>\n",
       "    <tr>\n",
       "      <th>24</th>\n",
       "      <td>1.879636</td>\n",
       "      <td>inccat_2</td>\n",
       "    </tr>\n",
       "    <tr>\n",
       "      <th>3</th>\n",
       "      <td>1.813702</td>\n",
       "      <td>agecat_4</td>\n",
       "    </tr>\n",
       "    <tr>\n",
       "      <th>2</th>\n",
       "      <td>1.775659</td>\n",
       "      <td>agecat_3</td>\n",
       "    </tr>\n",
       "    <tr>\n",
       "      <th>4</th>\n",
       "      <td>1.766884</td>\n",
       "      <td>agecat_5</td>\n",
       "    </tr>\n",
       "    <tr>\n",
       "      <th>25</th>\n",
       "      <td>1.601136</td>\n",
       "      <td>inccat_3</td>\n",
       "    </tr>\n",
       "    <tr>\n",
       "      <th>26</th>\n",
       "      <td>1.496934</td>\n",
       "      <td>inccat_4</td>\n",
       "    </tr>\n",
       "    <tr>\n",
       "      <th>30</th>\n",
       "      <td>1.465957</td>\n",
       "      <td>reason_2</td>\n",
       "    </tr>\n",
       "    <tr>\n",
       "      <th>31</th>\n",
       "      <td>1.449890</td>\n",
       "      <td>reason_9</td>\n",
       "    </tr>\n",
       "    <tr>\n",
       "      <th>8</th>\n",
       "      <td>1.448493</td>\n",
       "      <td>card2_5</td>\n",
       "    </tr>\n",
       "    <tr>\n",
       "      <th>18</th>\n",
       "      <td>1.385423</td>\n",
       "      <td>ed</td>\n",
       "    </tr>\n",
       "    <tr>\n",
       "      <th>14</th>\n",
       "      <td>1.318816</td>\n",
       "      <td>card_5</td>\n",
       "    </tr>\n",
       "    <tr>\n",
       "      <th>22</th>\n",
       "      <td>1.306099</td>\n",
       "      <td>equipten</td>\n",
       "    </tr>\n",
       "    <tr>\n",
       "      <th>28</th>\n",
       "      <td>1.186624</td>\n",
       "      <td>owncd_1</td>\n",
       "    </tr>\n",
       "    <tr>\n",
       "      <th>16</th>\n",
       "      <td>1.107788</td>\n",
       "      <td>cardtenure_39</td>\n",
       "    </tr>\n",
       "    <tr>\n",
       "      <th>9</th>\n",
       "      <td>1.060454</td>\n",
       "      <td>card2items</td>\n",
       "    </tr>\n",
       "    <tr>\n",
       "      <th>10</th>\n",
       "      <td>1.053286</td>\n",
       "      <td>card2tenure_26</td>\n",
       "    </tr>\n",
       "    <tr>\n",
       "      <th>21</th>\n",
       "      <td>1.039195</td>\n",
       "      <td>employ_34</td>\n",
       "    </tr>\n",
       "    <tr>\n",
       "      <th>15</th>\n",
       "      <td>1.038108</td>\n",
       "      <td>carditems</td>\n",
       "    </tr>\n",
       "    <tr>\n",
       "      <th>19</th>\n",
       "      <td>1.027683</td>\n",
       "      <td>employ_16</td>\n",
       "    </tr>\n",
       "    <tr>\n",
       "      <th>29</th>\n",
       "      <td>1.026650</td>\n",
       "      <td>polview_6</td>\n",
       "    </tr>\n",
       "    <tr>\n",
       "      <th>20</th>\n",
       "      <td>1.021566</td>\n",
       "      <td>employ_32</td>\n",
       "    </tr>\n",
       "    <tr>\n",
       "      <th>23</th>\n",
       "      <td>1.019738</td>\n",
       "      <td>gender_1</td>\n",
       "    </tr>\n",
       "    <tr>\n",
       "      <th>0</th>\n",
       "      <td>0.000000</td>\n",
       "      <td>Intercept</td>\n",
       "    </tr>\n",
       "    <tr>\n",
       "      <th>17</th>\n",
       "      <td>0.000000</td>\n",
       "      <td>const</td>\n",
       "    </tr>\n",
       "  </tbody>\n",
       "</table>\n",
       "</div>"
      ],
      "text/plain": [
       "    VIF Factor        features\n",
       "1     3.232639             age\n",
       "32    2.842130        retire_1\n",
       "13    2.316367          card_4\n",
       "7     2.271948         card2_4\n",
       "6     2.131626         card2_3\n",
       "5     2.077896         card2_2\n",
       "11    2.059413          card_2\n",
       "12    2.042483          card_3\n",
       "33    1.962726          tenure\n",
       "27    1.883705          income\n",
       "24    1.879636        inccat_2\n",
       "3     1.813702        agecat_4\n",
       "2     1.775659        agecat_3\n",
       "4     1.766884        agecat_5\n",
       "25    1.601136        inccat_3\n",
       "26    1.496934        inccat_4\n",
       "30    1.465957        reason_2\n",
       "31    1.449890        reason_9\n",
       "8     1.448493         card2_5\n",
       "18    1.385423              ed\n",
       "14    1.318816          card_5\n",
       "22    1.306099        equipten\n",
       "28    1.186624         owncd_1\n",
       "16    1.107788   cardtenure_39\n",
       "9     1.060454      card2items\n",
       "10    1.053286  card2tenure_26\n",
       "21    1.039195       employ_34\n",
       "15    1.038108       carditems\n",
       "19    1.027683       employ_16\n",
       "29    1.026650       polview_6\n",
       "20    1.021566       employ_32\n",
       "23    1.019738        gender_1\n",
       "0     0.000000       Intercept\n",
       "17    0.000000           const"
      ]
     },
     "execution_count": 98,
     "metadata": {},
     "output_type": "execute_result"
    }
   ],
   "source": [
    "# VIF is Good For all Variables \n",
    "vif.sort_values('VIF Factor',ascending=False)"
   ]
  },
  {
   "cell_type": "code",
   "execution_count": 99,
   "metadata": {},
   "outputs": [],
   "source": [
    "# Appending all Variables names to a List \n",
    "datanew_var=[]\n",
    "for var in datanew.columns:\n",
    "    datanew_var.append(var)"
   ]
  },
  {
   "cell_type": "code",
   "execution_count": 100,
   "metadata": {},
   "outputs": [],
   "source": [
    "# Removing \"Constant\" from the Variable Names list to Subset the Final Data  \n",
    "datanew_var.remove('const')"
   ]
  },
  {
   "cell_type": "code",
   "execution_count": 101,
   "metadata": {},
   "outputs": [],
   "source": [
    "# Subsetting the Final Data \n",
    "data_final=data[datanew_var]"
   ]
  },
  {
   "cell_type": "code",
   "execution_count": 102,
   "metadata": {},
   "outputs": [
    {
     "data": {
      "text/html": [
       "<div>\n",
       "<style scoped>\n",
       "    .dataframe tbody tr th:only-of-type {\n",
       "        vertical-align: middle;\n",
       "    }\n",
       "\n",
       "    .dataframe tbody tr th {\n",
       "        vertical-align: top;\n",
       "    }\n",
       "\n",
       "    .dataframe thead th {\n",
       "        text-align: right;\n",
       "    }\n",
       "</style>\n",
       "<table border=\"1\" class=\"dataframe\">\n",
       "  <thead>\n",
       "    <tr style=\"text-align: right;\">\n",
       "      <th></th>\n",
       "      <th>age</th>\n",
       "      <th>agecat_3</th>\n",
       "      <th>agecat_4</th>\n",
       "      <th>agecat_5</th>\n",
       "      <th>card2_2</th>\n",
       "      <th>card2_3</th>\n",
       "      <th>card2_4</th>\n",
       "      <th>card2_5</th>\n",
       "      <th>card2items</th>\n",
       "      <th>card2tenure_26</th>\n",
       "      <th>...</th>\n",
       "      <th>inccat_3</th>\n",
       "      <th>inccat_4</th>\n",
       "      <th>income</th>\n",
       "      <th>owncd_1</th>\n",
       "      <th>polview_6</th>\n",
       "      <th>reason_2</th>\n",
       "      <th>reason_9</th>\n",
       "      <th>retire_1</th>\n",
       "      <th>tenure</th>\n",
       "      <th>totalspent</th>\n",
       "    </tr>\n",
       "  </thead>\n",
       "  <tbody>\n",
       "    <tr>\n",
       "      <th>0</th>\n",
       "      <td>20.0</td>\n",
       "      <td>0</td>\n",
       "      <td>0</td>\n",
       "      <td>0</td>\n",
       "      <td>0</td>\n",
       "      <td>0</td>\n",
       "      <td>0</td>\n",
       "      <td>1</td>\n",
       "      <td>4.0</td>\n",
       "      <td>0</td>\n",
       "      <td>...</td>\n",
       "      <td>0</td>\n",
       "      <td>0</td>\n",
       "      <td>31.0</td>\n",
       "      <td>0</td>\n",
       "      <td>1</td>\n",
       "      <td>0</td>\n",
       "      <td>1</td>\n",
       "      <td>0</td>\n",
       "      <td>5.0</td>\n",
       "      <td>5.013697</td>\n",
       "    </tr>\n",
       "    <tr>\n",
       "      <th>1</th>\n",
       "      <td>22.0</td>\n",
       "      <td>0</td>\n",
       "      <td>0</td>\n",
       "      <td>0</td>\n",
       "      <td>0</td>\n",
       "      <td>0</td>\n",
       "      <td>1</td>\n",
       "      <td>0</td>\n",
       "      <td>2.0</td>\n",
       "      <td>0</td>\n",
       "      <td>...</td>\n",
       "      <td>0</td>\n",
       "      <td>0</td>\n",
       "      <td>15.0</td>\n",
       "      <td>1</td>\n",
       "      <td>0</td>\n",
       "      <td>0</td>\n",
       "      <td>1</td>\n",
       "      <td>0</td>\n",
       "      <td>39.0</td>\n",
       "      <td>4.363608</td>\n",
       "    </tr>\n",
       "    <tr>\n",
       "      <th>2</th>\n",
       "      <td>67.0</td>\n",
       "      <td>0</td>\n",
       "      <td>0</td>\n",
       "      <td>0</td>\n",
       "      <td>0</td>\n",
       "      <td>0</td>\n",
       "      <td>1</td>\n",
       "      <td>0</td>\n",
       "      <td>7.0</td>\n",
       "      <td>0</td>\n",
       "      <td>...</td>\n",
       "      <td>0</td>\n",
       "      <td>0</td>\n",
       "      <td>35.0</td>\n",
       "      <td>1</td>\n",
       "      <td>0</td>\n",
       "      <td>1</td>\n",
       "      <td>0</td>\n",
       "      <td>0</td>\n",
       "      <td>65.0</td>\n",
       "      <td>5.888795</td>\n",
       "    </tr>\n",
       "    <tr>\n",
       "      <th>3</th>\n",
       "      <td>23.0</td>\n",
       "      <td>0</td>\n",
       "      <td>0</td>\n",
       "      <td>0</td>\n",
       "      <td>0</td>\n",
       "      <td>1</td>\n",
       "      <td>0</td>\n",
       "      <td>0</td>\n",
       "      <td>1.0</td>\n",
       "      <td>0</td>\n",
       "      <td>...</td>\n",
       "      <td>0</td>\n",
       "      <td>0</td>\n",
       "      <td>20.0</td>\n",
       "      <td>1</td>\n",
       "      <td>0</td>\n",
       "      <td>0</td>\n",
       "      <td>1</td>\n",
       "      <td>0</td>\n",
       "      <td>36.0</td>\n",
       "      <td>5.887242</td>\n",
       "    </tr>\n",
       "    <tr>\n",
       "      <th>4</th>\n",
       "      <td>26.0</td>\n",
       "      <td>1</td>\n",
       "      <td>0</td>\n",
       "      <td>0</td>\n",
       "      <td>0</td>\n",
       "      <td>0</td>\n",
       "      <td>0</td>\n",
       "      <td>0</td>\n",
       "      <td>7.0</td>\n",
       "      <td>0</td>\n",
       "      <td>...</td>\n",
       "      <td>0</td>\n",
       "      <td>0</td>\n",
       "      <td>23.0</td>\n",
       "      <td>1</td>\n",
       "      <td>0</td>\n",
       "      <td>0</td>\n",
       "      <td>1</td>\n",
       "      <td>0</td>\n",
       "      <td>21.0</td>\n",
       "      <td>6.232114</td>\n",
       "    </tr>\n",
       "  </tbody>\n",
       "</table>\n",
       "<p>5 rows × 33 columns</p>\n",
       "</div>"
      ],
      "text/plain": [
       "    age  agecat_3  agecat_4  agecat_5  card2_2  card2_3  card2_4  card2_5  \\\n",
       "0  20.0         0         0         0        0        0        0        1   \n",
       "1  22.0         0         0         0        0        0        1        0   \n",
       "2  67.0         0         0         0        0        0        1        0   \n",
       "3  23.0         0         0         0        0        1        0        0   \n",
       "4  26.0         1         0         0        0        0        0        0   \n",
       "\n",
       "   card2items  card2tenure_26     ...      inccat_3  inccat_4  income  \\\n",
       "0         4.0               0     ...             0         0    31.0   \n",
       "1         2.0               0     ...             0         0    15.0   \n",
       "2         7.0               0     ...             0         0    35.0   \n",
       "3         1.0               0     ...             0         0    20.0   \n",
       "4         7.0               0     ...             0         0    23.0   \n",
       "\n",
       "   owncd_1  polview_6  reason_2  reason_9  retire_1  tenure  totalspent  \n",
       "0        0          1         0         1         0     5.0    5.013697  \n",
       "1        1          0         0         1         0    39.0    4.363608  \n",
       "2        1          0         1         0         0    65.0    5.888795  \n",
       "3        1          0         0         1         0    36.0    5.887242  \n",
       "4        1          0         0         1         0    21.0    6.232114  \n",
       "\n",
       "[5 rows x 33 columns]"
      ]
     },
     "execution_count": 102,
     "metadata": {},
     "output_type": "execute_result"
    }
   ],
   "source": [
    "data_final.head()"
   ]
  },
  {
   "cell_type": "code",
   "execution_count": 103,
   "metadata": {},
   "outputs": [],
   "source": [
    "feature_columns = data_final.columns.difference( ['totalspent'] )"
   ]
  },
  {
   "cell_type": "code",
   "execution_count": 104,
   "metadata": {},
   "outputs": [
    {
     "data": {
      "text/plain": [
       "Index(['age', 'agecat_3', 'agecat_4', 'agecat_5', 'card2_2', 'card2_3',\n",
       "       'card2_4', 'card2_5', 'card2items', 'card2tenure_26', 'card_2',\n",
       "       'card_3', 'card_4', 'card_5', 'carditems', 'cardtenure_39', 'ed',\n",
       "       'employ_16', 'employ_32', 'employ_34', 'equipten', 'gender_1',\n",
       "       'inccat_2', 'inccat_3', 'inccat_4', 'income', 'owncd_1', 'polview_6',\n",
       "       'reason_2', 'reason_9', 'retire_1', 'tenure'],\n",
       "      dtype='object')"
      ]
     },
     "execution_count": 104,
     "metadata": {},
     "output_type": "execute_result"
    }
   ],
   "source": [
    "feature_columns"
   ]
  },
  {
   "cell_type": "code",
   "execution_count": 105,
   "metadata": {},
   "outputs": [],
   "source": [
    "# Splitting Training and Testing Data \n",
    "train_X, test_X, train_y, test_y = train_test_split( data_final[feature_columns],\n",
    "                                                  data_final['totalspent'],\n",
    "                                                  test_size = 0.3,\n",
    "                                                  random_state = 123 )"
   ]
  },
  {
   "cell_type": "code",
   "execution_count": 106,
   "metadata": {},
   "outputs": [
    {
     "data": {
      "text/plain": [
       "LinearRegression(copy_X=True, fit_intercept=True, n_jobs=1, normalize=False)"
      ]
     },
     "execution_count": 106,
     "metadata": {},
     "output_type": "execute_result"
    }
   ],
   "source": [
    "## Building the model with train set and make predictions on test set\n",
    "linreg = LinearRegression()\n",
    "linreg.fit( train_X, train_y )"
   ]
  },
  {
   "cell_type": "code",
   "execution_count": 107,
   "metadata": {},
   "outputs": [
    {
     "name": "stdout",
     "output_type": "stream",
     "text": [
      "0.35350124655992493\n",
      "0.707702787513732\n"
     ]
    }
   ],
   "source": [
    "# Predicting on Training Data with the  Model \n",
    "y_pred_t = linreg.predict(train_X)\n",
    "rmse_t = np.sqrt( metrics.mean_squared_error( train_y, y_pred_t) )\n",
    "print (rmse_t)\n",
    "print (metrics.r2_score( train_y, y_pred_t ))"
   ]
  },
  {
   "cell_type": "code",
   "execution_count": 108,
   "metadata": {},
   "outputs": [
    {
     "name": "stdout",
     "output_type": "stream",
     "text": [
      "0.3577347082572228\n",
      "0.6605290060760819\n"
     ]
    }
   ],
   "source": [
    "# Predicting on Testing Data With  the Model \n",
    "y_pred = linreg.predict( test_X )\n",
    "rmse = np.sqrt( metrics.mean_squared_error( test_y, y_pred ) )\n",
    "print (rmse)\n",
    "print (metrics.r2_score( test_y, y_pred ))"
   ]
  },
  {
   "cell_type": "code",
   "execution_count": 109,
   "metadata": {},
   "outputs": [],
   "source": [
    "# Rediduals \n",
    "residuals = train_y - y_pred_t"
   ]
  },
  {
   "cell_type": "code",
   "execution_count": 110,
   "metadata": {},
   "outputs": [
    {
     "name": "stderr",
     "output_type": "stream",
     "text": [
      "C:\\Users\\raghu\\Anaconda3\\lib\\site-packages\\matplotlib\\axes\\_axes.py:6462: UserWarning: The 'normed' kwarg is deprecated, and has been replaced by the 'density' kwarg.\n",
      "  warnings.warn(\"The 'normed' kwarg is deprecated, and has been \"\n"
     ]
    },
    {
     "data": {
      "text/plain": [
       "<matplotlib.axes._subplots.AxesSubplot at 0x20b3757eb38>"
      ]
     },
     "execution_count": 110,
     "metadata": {},
     "output_type": "execute_result"
    },
    {
     "data": {
      "image/png": "[encoded data removed]",
      "text/plain": [
       "<Figure size 432x288 with 1 Axes>"
      ]
     },
     "metadata": {},
     "output_type": "display_data"
    }
   ],
   "source": [
    "# Residuals Seems to be Normal\n",
    "sns.distplot( residuals )"
   ]
  },
  {
   "cell_type": "code",
   "execution_count": 111,
   "metadata": {},
   "outputs": [
    {
     "data": {
      "image/png": "[encoded data removed]",
      "text/plain": [
       "<Figure size 432x288 with 1 Axes>"
      ]
     },
     "metadata": {},
     "output_type": "display_data"
    }
   ],
   "source": [
    "# To ensure residues are random i.e. normally distributed a Q-Q plot can be used\n",
    "# Q-Q plot shows if the residuals are plotted along the line.\n",
    "# Seems to be Fine \n",
    "stats.probplot( residuals, dist=\"norm\", plot=pylab )\n",
    "pylab.show()"
   ]
  },
  {
   "cell_type": "code",
   "execution_count": 112,
   "metadata": {},
   "outputs": [
    {
     "name": "stderr",
     "output_type": "stream",
     "text": [
      "C:\\Users\\raghu\\Anaconda3\\lib\\site-packages\\matplotlib\\axes\\_axes.py:6462: UserWarning: The 'normed' kwarg is deprecated, and has been replaced by the 'density' kwarg.\n",
      "  warnings.warn(\"The 'normed' kwarg is deprecated, and has been \"\n",
      "C:\\Users\\raghu\\Anaconda3\\lib\\site-packages\\matplotlib\\axes\\_axes.py:6462: UserWarning: The 'normed' kwarg is deprecated, and has been replaced by the 'density' kwarg.\n",
      "  warnings.warn(\"The 'normed' kwarg is deprecated, and has been \"\n"
     ]
    },
    {
     "data": {
      "text/plain": [
       "<seaborn.axisgrid.JointGrid at 0x20b36e86e48>"
      ]
     },
     "execution_count": 112,
     "metadata": {},
     "output_type": "execute_result"
    },
    {
     "data": {
      "image/png": "[encoded data removed]",
      "text/plain": [
       "<Figure size 432x432 with 3 Axes>"
      ]
     },
     "metadata": {},
     "output_type": "display_data"
    }
   ],
   "source": [
    "# Plot Between Predicted Y on Testing Data and Residuals\n",
    "sns.jointplot(y_pred_t,residuals)"
   ]
  },
  {
   "cell_type": "code",
   "execution_count": null,
   "metadata": {},
   "outputs": [],
   "source": []
  }
 ],
 "metadata": {
  "kernelspec": {
   "display_name": "Python 3",
   "language": "python",
   "name": "python3"
  },
  "language_info": {
   "codemirror_mode": {
    "name": "ipython",
    "version": 3
   },
   "file_extension": ".py",
   "mimetype": "text/x-python",
   "name": "python",
   "nbconvert_exporter": "python",
   "pygments_lexer": "ipython3",
   "version": "3.6.5"
  }
 },
 "nbformat": 4,
 "nbformat_minor": 2
}
